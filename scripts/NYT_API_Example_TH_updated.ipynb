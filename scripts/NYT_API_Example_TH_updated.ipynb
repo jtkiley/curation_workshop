{
 "cells": [
  {
   "cell_type": "markdown",
   "metadata": {},
   "source": [
    "# NYT API: updated with Tim's key"
   ]
  },
  {
   "cell_type": "code",
   "execution_count": 1,
   "metadata": {},
   "outputs": [
    {
     "name": "stdout",
     "output_type": "stream",
     "text": [
      "[nltk_data] Downloading package vader_lexicon to\n",
      "[nltk_data]     /Users/thanniga/nltk_data...\n",
      "[nltk_data]   Package vader_lexicon is already up-to-date!\n"
     ]
    }
   ],
   "source": [
    "from __future__ import division\n",
    "import pandas\n",
    "from matplotlib import pyplot as plt \n",
    "import seaborn as sns\n",
    "import requests\n",
    "import json\n",
    "import math\n",
    "import time\n",
    "import csv\n",
    "# from textblob import TextBlob\n",
    "# replace textblob with NLTK (included in Anaconda)\n",
    "# use NLTK’s build-in Vader Sentiment Analyzer\n",
    "import nltk\n",
    "nltk.download('vader_lexicon')\n",
    "from nltk.sentiment.vader import SentimentIntensityAnalyzer\n",
    "\n",
    "%matplotlib inline"
   ]
  },
  {
   "cell_type": "code",
   "execution_count": 2,
   "metadata": {
    "collapsed": true
   },
   "outputs": [],
   "source": [
    "def grab_data(keyword, start_date, end_date): #\"20100101\"\n",
    "\n",
    "    # set key\n",
    "    key = \"23024af0531e446c99d96a8dcfb5cf09\"\n",
    "\n",
    "    # set base url\n",
    "    base_url = \"https://api.nytimes.com/svc/search/v2/articlesearch.json\"\n",
    "\n",
    "    # set search parameters\n",
    "    search_params = {\"q\": keyword,\n",
    "                     \"api-key\": key,\n",
    "                     \"begin_date\": start_date ,  # date must be in YYYYMMDD format\n",
    "                     \"end_date\": end_date}\n",
    "\n",
    "    # make request\n",
    "    r = requests.get(base_url, params=search_params)\n",
    "\n",
    "    # wait 3 seconds for the GET request\n",
    "    time.sleep(3)\n",
    "\n",
    "    # convert to a dictionary\n",
    "    data = json.loads(r.text)\n",
    "\n",
    "    # get number of hits\n",
    "    hits = data['response']['meta']['hits']\n",
    "    print(\"number of hits: \", str(hits))\n",
    "\n",
    "    # get number of pages\n",
    "    pages = int(math.ceil(hits / 10))\n",
    "    print(\"number of pages: \", str(pages))\n",
    "    \n",
    "    data_all = list()\n",
    "    \n",
    "    # now we're ready to loop through the pages\n",
    "    for i in range(pages):\n",
    "        print(\"collecting page\", str(i))\n",
    "\n",
    "        # set the page parameter\n",
    "        search_params['page'] = i\n",
    "\n",
    "        # make request\n",
    "        r = requests.get(base_url, params=search_params)\n",
    "\n",
    "        # get text and convert to a dictionary\n",
    "        data = json.loads(r.text)\n",
    "        \n",
    "        # append dictionary to master list\n",
    "        data_all.append(data)\n",
    "        time.sleep(3)  # pause between calls\n",
    "    filename = '../data/nyt_%s.txt' % keyword\n",
    "    with open(filename, 'w') as outfile:\n",
    "        json.dump(data_all, outfile)\n",
    "    return data_all"
   ]
  },
  {
   "cell_type": "code",
   "execution_count": 40,
   "metadata": {
    "collapsed": true
   },
   "outputs": [],
   "source": [
    "def gen_df(data):\n",
    "\n",
    "    # make an empty dataframe where we'll hold all of our docs for every page\n",
    "    all_docs = pandas.DataFrame()\n",
    "    for e in data:\n",
    "        # get just the docs\n",
    "        # because some responses are just messages, we need to only gather those with data\n",
    "        if \"response\" in e.keys():\n",
    "            docs = e['response']['docs']\n",
    "            df_temp = pandas.DataFrame(docs)\n",
    "            # add those docs to the dataframe\n",
    "            all_docs = pandas.concat([all_docs, df_temp], ignore_index=True)\n",
    "    return(all_docs)"
   ]
  },
  {
   "cell_type": "code",
   "execution_count": 4,
   "metadata": {},
   "outputs": [],
   "source": [
    "def polarity(text):\n",
    "    sentiment_engine_nltk_vader = SentimentIntensityAnalyzer()\n",
    "    # vader is one of NLTK's sentiment approaches (we could just simply and leave out that detail)\n",
    "    score = sentiment_engine_nltk_vader.polarity_scores(text)\n",
    "    return 1 if score['pos'] > score['neg'] else 0"
   ]
  },
  {
   "cell_type": "code",
   "execution_count": 5,
   "metadata": {
    "collapsed": true
   },
   "outputs": [],
   "source": [
    "def clean_data(df):\n",
    "    df['year'] = df['pub_date'].str[:4]\n",
    "    df['polarity'] = df['snippet'].apply(polarity)\n",
    "    grouped = df[['year','_id']].groupby('year').count()\n",
    "    grouped_text = df[['year', 'polarity']].groupby('year').mean()\n",
    "    grouped_all = grouped.join(grouped_text)\n",
    "    grouped_all.rename(columns={'_id': 'count'}, inplace=True)\n",
    "    return grouped_all"
   ]
  },
  {
   "cell_type": "markdown",
   "metadata": {},
   "source": [
    "## We start to run the main code here"
   ]
  },
  {
   "cell_type": "code",
   "execution_count": null,
   "metadata": {},
   "outputs": [],
   "source": [
    "data_ev_charging = grab_data(\"electric vehicle charging\", 20050101, 20150101)"
   ]
  },
  {
   "cell_type": "code",
   "execution_count": 41,
   "metadata": {},
   "outputs": [],
   "source": [
    "df_ev_charging = gen_df(data_ev_charging)"
   ]
  },
  {
   "cell_type": "code",
   "execution_count": 42,
   "metadata": {},
   "outputs": [],
   "source": [
    "grouped_ev_charging = clean_data(df_ev_charging)"
   ]
  },
  {
   "cell_type": "markdown",
   "metadata": {},
   "source": [
    "### Inspect the dataframe"
   ]
  },
  {
   "cell_type": "code",
   "execution_count": 50,
   "metadata": {},
   "outputs": [
    {
     "data": {
      "text/html": [
       "<div>\n",
       "<style scoped>\n",
       "    .dataframe tbody tr th:only-of-type {\n",
       "        vertical-align: middle;\n",
       "    }\n",
       "\n",
       "    .dataframe tbody tr th {\n",
       "        vertical-align: top;\n",
       "    }\n",
       "\n",
       "    .dataframe thead th {\n",
       "        text-align: right;\n",
       "    }\n",
       "</style>\n",
       "<table border=\"1\" class=\"dataframe\">\n",
       "  <thead>\n",
       "    <tr style=\"text-align: right;\">\n",
       "      <th></th>\n",
       "      <th>count</th>\n",
       "      <th>polarity</th>\n",
       "    </tr>\n",
       "    <tr>\n",
       "      <th>year</th>\n",
       "      <th></th>\n",
       "      <th></th>\n",
       "    </tr>\n",
       "  </thead>\n",
       "  <tbody>\n",
       "    <tr>\n",
       "      <th>2005</th>\n",
       "      <td>8</td>\n",
       "      <td>0.625000</td>\n",
       "    </tr>\n",
       "    <tr>\n",
       "      <th>2006</th>\n",
       "      <td>8</td>\n",
       "      <td>0.250000</td>\n",
       "    </tr>\n",
       "    <tr>\n",
       "      <th>2007</th>\n",
       "      <td>13</td>\n",
       "      <td>0.538462</td>\n",
       "    </tr>\n",
       "    <tr>\n",
       "      <th>2008</th>\n",
       "      <td>22</td>\n",
       "      <td>0.590909</td>\n",
       "    </tr>\n",
       "    <tr>\n",
       "      <th>2009</th>\n",
       "      <td>64</td>\n",
       "      <td>0.562500</td>\n",
       "    </tr>\n",
       "    <tr>\n",
       "      <th>2010</th>\n",
       "      <td>95</td>\n",
       "      <td>0.631579</td>\n",
       "    </tr>\n",
       "    <tr>\n",
       "      <th>2011</th>\n",
       "      <td>97</td>\n",
       "      <td>0.536082</td>\n",
       "    </tr>\n",
       "    <tr>\n",
       "      <th>2012</th>\n",
       "      <td>60</td>\n",
       "      <td>0.500000</td>\n",
       "    </tr>\n",
       "    <tr>\n",
       "      <th>2013</th>\n",
       "      <td>51</td>\n",
       "      <td>0.372549</td>\n",
       "    </tr>\n",
       "  </tbody>\n",
       "</table>\n",
       "</div>"
      ],
      "text/plain": [
       "      count  polarity\n",
       "year                 \n",
       "2005      8  0.625000\n",
       "2006      8  0.250000\n",
       "2007     13  0.538462\n",
       "2008     22  0.590909\n",
       "2009     64  0.562500\n",
       "2010     95  0.631579\n",
       "2011     97  0.536082\n",
       "2012     60  0.500000\n",
       "2013     51  0.372549"
      ]
     },
     "execution_count": 50,
     "metadata": {},
     "output_type": "execute_result"
    }
   ],
   "source": [
    "grouped_ev_charging"
   ]
  },
  {
   "cell_type": "markdown",
   "metadata": {},
   "source": [
    "### Plot the count column in our dataframe"
   ]
  },
  {
   "cell_type": "code",
   "execution_count": 48,
   "metadata": {},
   "outputs": [
    {
     "data": {
      "text/plain": [
       "<matplotlib.axes._subplots.AxesSubplot at 0x1a1ec1d240>"
      ]
     },
     "execution_count": 48,
     "metadata": {},
     "output_type": "execute_result"
    },
    {
     "data": {
      "image/png": "[encoded data removed]",
      "text/plain": [
       "<matplotlib.figure.Figure at 0x1a1ec868d0>"
      ]
     },
     "metadata": {},
     "output_type": "display_data"
    }
   ],
   "source": [
    "grouped_ev_charging['count'].plot(kind='line')"
   ]
  },
  {
   "cell_type": "markdown",
   "metadata": {},
   "source": [
    "### Plot the polarity column in our dataframe"
   ]
  },
  {
   "cell_type": "code",
   "execution_count": 45,
   "metadata": {},
   "outputs": [
    {
     "data": {
      "text/plain": [
       "<matplotlib.axes._subplots.AxesSubplot at 0x1a1ea5ad68>"
      ]
     },
     "execution_count": 45,
     "metadata": {},
     "output_type": "execute_result"
    },
    {
     "data": {
      "image/png": "[encoded data removed]",
      "text/plain": [
       "<matplotlib.figure.Figure at 0x1a1eb62710>"
      ]
     },
     "metadata": {},
     "output_type": "display_data"
    }
   ],
   "source": [
    "grouped_ev_charging[[ 'polarity']].plot(kind='line')"
   ]
  },
  {
   "cell_type": "markdown",
   "metadata": {},
   "source": [
    "### Create a table of correlations in our dataframe"
   ]
  },
  {
   "cell_type": "code",
   "execution_count": 46,
   "metadata": {},
   "outputs": [
    {
     "data": {
      "text/html": [
       "<div>\n",
       "<style scoped>\n",
       "    .dataframe tbody tr th:only-of-type {\n",
       "        vertical-align: middle;\n",
       "    }\n",
       "\n",
       "    .dataframe tbody tr th {\n",
       "        vertical-align: top;\n",
       "    }\n",
       "\n",
       "    .dataframe thead th {\n",
       "        text-align: right;\n",
       "    }\n",
       "</style>\n",
       "<table border=\"1\" class=\"dataframe\">\n",
       "  <thead>\n",
       "    <tr style=\"text-align: right;\">\n",
       "      <th></th>\n",
       "      <th>count</th>\n",
       "      <th>polarity</th>\n",
       "    </tr>\n",
       "  </thead>\n",
       "  <tbody>\n",
       "    <tr>\n",
       "      <th>count</th>\n",
       "      <td>1.00000</td>\n",
       "      <td>0.28181</td>\n",
       "    </tr>\n",
       "    <tr>\n",
       "      <th>polarity</th>\n",
       "      <td>0.28181</td>\n",
       "      <td>1.00000</td>\n",
       "    </tr>\n",
       "  </tbody>\n",
       "</table>\n",
       "</div>"
      ],
      "text/plain": [
       "            count  polarity\n",
       "count     1.00000   0.28181\n",
       "polarity  0.28181   1.00000"
      ]
     },
     "execution_count": 46,
     "metadata": {},
     "output_type": "execute_result"
    }
   ],
   "source": [
    "grouped_ev_charging.corr()"
   ]
  },
  {
   "cell_type": "markdown",
   "metadata": {},
   "source": [
    "#### do we want to show the comparison between the two over time? More sentiment after 2010? Before 2010 there were 200 EV charging stations. By 2015 there were 12000 charging stations; there's a reason to believe the sentiment should shift"
   ]
  }
 ],
 "metadata": {
  "kernelspec": {
   "display_name": "Python 3",
   "language": "python",
   "name": "python3"
  },
  "language_info": {
   "codemirror_mode": {
    "name": "ipython",
    "version": 3
   },
   "file_extension": ".py",
   "mimetype": "text/x-python",
   "name": "python",
   "nbconvert_exporter": "python",
   "pygments_lexer": "ipython3",
   "version": "3.6.4"
  }
 },
 "nbformat": 4,
 "nbformat_minor": 2
}
