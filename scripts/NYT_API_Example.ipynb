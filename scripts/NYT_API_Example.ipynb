{
 "cells": [
  {
   "cell_type": "markdown",
   "metadata": {},
   "source": [
    "# NYT API"
   ]
  },
  {
   "cell_type": "code",
   "execution_count": 23,
   "metadata": {
    "collapsed": true
   },
   "outputs": [],
   "source": [
    "from __future__ import division\n",
    "import pandas\n",
    "from matplotlib import pyplot as plt \n",
    "import seaborn as sns\n",
    "import requests\n",
    "import json\n",
    "import math\n",
    "import time\n",
    "import csv\n",
    "from textblob import TextBlob\n",
    "\n",
    "%matplotlib inline"
   ]
  },
  {
   "cell_type": "code",
   "execution_count": 20,
   "metadata": {
    "collapsed": true
   },
   "outputs": [],
   "source": [
    "def grab_data(keyword):\n",
    "\n",
    "    # set key\n",
    "    key = \"be8992a420bfd16cf65e8757f77a5403:8:44644296\"\n",
    "\n",
    "    # set base url\n",
    "    base_url = \"https://api.nytimes.com/svc/search/v2/articlesearch.json\"\n",
    "\n",
    "    # set search parameters\n",
    "    search_params = {\"q\": keyword,\n",
    "                     \"api-key\": key,\n",
    "                     \"begin_date\": \"20100101\",  # date must be in YYYYMMDD format\n",
    "                     \"end_date\": \"20141231\"}\n",
    "\n",
    "    # make request\n",
    "    r = requests.get(base_url, params=search_params)\n",
    "\n",
    "    # wait 3 seconds for the GET request\n",
    "    time.sleep(3)\n",
    "\n",
    "    # convert to a dictionary\n",
    "    data = json.loads(r.text)\n",
    "\n",
    "    # get number of hits\n",
    "    hits = data['response']['meta']['hits']\n",
    "    print(\"number of hits: \", str(hits))\n",
    "\n",
    "    # get number of pages\n",
    "    pages = int(math.ceil(hits / 10))\n",
    "    print(\"number of pages: \", str(pages))\n",
    "    \n",
    "    data_all = list()\n",
    "    \n",
    "    # now we're ready to loop through the pages\n",
    "    for i in range(pages):\n",
    "        print(\"collecting page\", str(i))\n",
    "\n",
    "        # set the page parameter\n",
    "        search_params['page'] = i\n",
    "\n",
    "        # make request\n",
    "        r = requests.get(base_url, params=search_params)\n",
    "\n",
    "        # get text and convert to a dictionary\n",
    "        data = json.loads(r.text)\n",
    "        \n",
    "        # append dictionary to master list\n",
    "        data_all.append(data)\n",
    "        time.sleep(3)  # pause between calls\n",
    "    filename = '../data/nyt_%s.txt' % keyword\n",
    "    with open(filename, 'w') as outfile:\n",
    "        json.dump(data_all, outfile)\n",
    "    return data_all"
   ]
  },
  {
   "cell_type": "code",
   "execution_count": 29,
   "metadata": {
    "collapsed": true
   },
   "outputs": [],
   "source": [
    "def gen_df(data):\n",
    "\n",
    "    # make an empty dataframe where we'll hold all of our docs for every page\n",
    "    all_docs = pandas.DataFrame()\n",
    "    for e in data:\n",
    "        # get just the docs\n",
    "        docs = e['response']['docs']\n",
    "        df_temp = pandas.DataFrame(docs)\n",
    "\n",
    "        # add those docs to the dataframe\n",
    "        all_docs = pandas.concat([all_docs, df_temp], ignore_index=True)\n",
    "    return(all_docs)"
   ]
  },
  {
   "cell_type": "code",
   "execution_count": 24,
   "metadata": {
    "collapsed": true
   },
   "outputs": [],
   "source": [
    "def polarity(text):\n",
    "    tb = TextBlob(text)\n",
    "    return(tb.sentiment.polarity)"
   ]
  },
  {
   "cell_type": "code",
   "execution_count": 25,
   "metadata": {
    "collapsed": true
   },
   "outputs": [],
   "source": [
    "def subjectivity(text):\n",
    "    tb = TextBlob(text)\n",
    "    return(tb.sentiment.subjectivity)"
   ]
  },
  {
   "cell_type": "code",
   "execution_count": 38,
   "metadata": {
    "collapsed": true
   },
   "outputs": [],
   "source": [
    "def clean_data(df):\n",
    "    df['year'] = df['pub_date'].str[:4]\n",
    "    df['polarity'] = df['snippet'].apply(polarity)\n",
    "    df['subjectivity'] = df['snippet'].apply(subjectivity)\n",
    "    grouped = df[['year','_id']].groupby('year').count()\n",
    "    grouped_text = df[['year', 'polarity','subjectivity']].groupby('year').mean()\n",
    "    grouped_all = grouped.join(grouped_text)\n",
    "    grouped_all.rename(columns={'_id': 'count'}, inplace=True)\n",
    "    return grouped_all"
   ]
  },
  {
   "cell_type": "code",
   "execution_count": null,
   "metadata": {},
   "outputs": [],
   "source": [
    "data_gm = grab_data(\"GM\")"
   ]
  },
  {
   "cell_type": "code",
   "execution_count": null,
   "metadata": {},
   "outputs": [],
   "source": [
    "df_gm = gen_df(data_gm)"
   ]
  },
  {
   "cell_type": "code",
   "execution_count": 39,
   "metadata": {},
   "outputs": [
    {
     "data": {
      "text/html": [
       "<div>\n",
       "<style>\n",
       "    .dataframe thead tr:only-child th {\n",
       "        text-align: right;\n",
       "    }\n",
       "\n",
       "    .dataframe thead th {\n",
       "        text-align: left;\n",
       "    }\n",
       "\n",
       "    .dataframe tbody tr th {\n",
       "        vertical-align: top;\n",
       "    }\n",
       "</style>\n",
       "<table border=\"1\" class=\"dataframe\">\n",
       "  <thead>\n",
       "    <tr style=\"text-align: right;\">\n",
       "      <th></th>\n",
       "      <th>count</th>\n",
       "      <th>polarity</th>\n",
       "      <th>subjectivity</th>\n",
       "    </tr>\n",
       "    <tr>\n",
       "      <th>year</th>\n",
       "      <th></th>\n",
       "      <th></th>\n",
       "      <th></th>\n",
       "    </tr>\n",
       "  </thead>\n",
       "  <tbody>\n",
       "    <tr>\n",
       "      <th>2010</th>\n",
       "      <td>88</td>\n",
       "      <td>0.065364</td>\n",
       "      <td>0.387856</td>\n",
       "    </tr>\n",
       "    <tr>\n",
       "      <th>2011</th>\n",
       "      <td>43</td>\n",
       "      <td>0.004315</td>\n",
       "      <td>0.256413</td>\n",
       "    </tr>\n",
       "    <tr>\n",
       "      <th>2012</th>\n",
       "      <td>68</td>\n",
       "      <td>0.078652</td>\n",
       "      <td>0.317951</td>\n",
       "    </tr>\n",
       "    <tr>\n",
       "      <th>2013</th>\n",
       "      <td>44</td>\n",
       "      <td>0.072676</td>\n",
       "      <td>0.235900</td>\n",
       "    </tr>\n",
       "    <tr>\n",
       "      <th>2014</th>\n",
       "      <td>94</td>\n",
       "      <td>0.076784</td>\n",
       "      <td>0.394213</td>\n",
       "    </tr>\n",
       "  </tbody>\n",
       "</table>\n",
       "</div>"
      ],
      "text/plain": [
       "      count  polarity  subjectivity\n",
       "year                               \n",
       "2010     88  0.065364      0.387856\n",
       "2011     43  0.004315      0.256413\n",
       "2012     68  0.078652      0.317951\n",
       "2013     44  0.072676      0.235900\n",
       "2014     94  0.076784      0.394213"
      ]
     },
     "execution_count": 39,
     "metadata": {},
     "output_type": "execute_result"
    }
   ],
   "source": [
    "grouped_gm = clean_data(df_gm)\n",
    "grouped_gm"
   ]
  },
  {
   "cell_type": "code",
   "execution_count": 40,
   "metadata": {},
   "outputs": [
    {
     "data": {
      "text/plain": [
       "<matplotlib.axes._subplots.AxesSubplot at 0x7f07d0435198>"
      ]
     },
     "execution_count": 40,
     "metadata": {},
     "output_type": "execute_result"
    },
    {
     "data": {
      "image/png": "[encoded data removed]",
      "text/plain": [
       "<matplotlib.figure.Figure at 0x7f07d0435e80>"
      ]
     },
     "metadata": {},
     "output_type": "display_data"
    }
   ],
   "source": [
    "grouped_gm['count'].plot(kind='line')"
   ]
  },
  {
   "cell_type": "code",
   "execution_count": 41,
   "metadata": {},
   "outputs": [
    {
     "data": {
      "text/plain": [
       "<matplotlib.axes._subplots.AxesSubplot at 0x7f07c8e8f240>"
      ]
     },
     "execution_count": 41,
     "metadata": {},
     "output_type": "execute_result"
    },
    {
     "data": {
      "image/png": "[encoded data removed]",
      "text/plain": [
       "<matplotlib.figure.Figure at 0x7f07c8e8c8d0>"
      ]
     },
     "metadata": {},
     "output_type": "display_data"
    }
   ],
   "source": [
    "grouped_gm[['subjectivity', 'polarity']].plot(kind='line')"
   ]
  },
  {
   "cell_type": "code",
   "execution_count": 42,
   "metadata": {},
   "outputs": [
    {
     "data": {
      "text/html": [
       "<div>\n",
       "<style>\n",
       "    .dataframe thead tr:only-child th {\n",
       "        text-align: right;\n",
       "    }\n",
       "\n",
       "    .dataframe thead th {\n",
       "        text-align: left;\n",
       "    }\n",
       "\n",
       "    .dataframe tbody tr th {\n",
       "        vertical-align: top;\n",
       "    }\n",
       "</style>\n",
       "<table border=\"1\" class=\"dataframe\">\n",
       "  <thead>\n",
       "    <tr style=\"text-align: right;\">\n",
       "      <th></th>\n",
       "      <th>count</th>\n",
       "      <th>polarity</th>\n",
       "      <th>subjectivity</th>\n",
       "    </tr>\n",
       "  </thead>\n",
       "  <tbody>\n",
       "    <tr>\n",
       "      <th>count</th>\n",
       "      <td>1.000000</td>\n",
       "      <td>0.545958</td>\n",
       "      <td>0.991607</td>\n",
       "    </tr>\n",
       "    <tr>\n",
       "      <th>polarity</th>\n",
       "      <td>0.545958</td>\n",
       "      <td>1.000000</td>\n",
       "      <td>0.443319</td>\n",
       "    </tr>\n",
       "    <tr>\n",
       "      <th>subjectivity</th>\n",
       "      <td>0.991607</td>\n",
       "      <td>0.443319</td>\n",
       "      <td>1.000000</td>\n",
       "    </tr>\n",
       "  </tbody>\n",
       "</table>\n",
       "</div>"
      ],
      "text/plain": [
       "                 count  polarity  subjectivity\n",
       "count         1.000000  0.545958      0.991607\n",
       "polarity      0.545958  1.000000      0.443319\n",
       "subjectivity  0.991607  0.443319      1.000000"
      ]
     },
     "execution_count": 42,
     "metadata": {},
     "output_type": "execute_result"
    }
   ],
   "source": [
    "grouped_gm.corr()"
   ]
  },
  {
   "cell_type": "code",
   "execution_count": null,
   "metadata": {},
   "outputs": [],
   "source": [
    "data_tesla = grab_data(\"Tesla\")"
   ]
  },
  {
   "cell_type": "code",
   "execution_count": null,
   "metadata": {},
   "outputs": [],
   "source": [
    "df_tesla = gen_df(data_tesla)"
   ]
  },
  {
   "cell_type": "code",
   "execution_count": 46,
   "metadata": {},
   "outputs": [
    {
     "data": {
      "text/html": [
       "<div>\n",
       "<style>\n",
       "    .dataframe thead tr:only-child th {\n",
       "        text-align: right;\n",
       "    }\n",
       "\n",
       "    .dataframe thead th {\n",
       "        text-align: left;\n",
       "    }\n",
       "\n",
       "    .dataframe tbody tr th {\n",
       "        vertical-align: top;\n",
       "    }\n",
       "</style>\n",
       "<table border=\"1\" class=\"dataframe\">\n",
       "  <thead>\n",
       "    <tr style=\"text-align: right;\">\n",
       "      <th></th>\n",
       "      <th>count</th>\n",
       "      <th>polarity</th>\n",
       "      <th>subjectivity</th>\n",
       "    </tr>\n",
       "    <tr>\n",
       "      <th>year</th>\n",
       "      <th></th>\n",
       "      <th></th>\n",
       "      <th></th>\n",
       "    </tr>\n",
       "  </thead>\n",
       "  <tbody>\n",
       "    <tr>\n",
       "      <th>2010</th>\n",
       "      <td>237</td>\n",
       "      <td>0.078909</td>\n",
       "      <td>0.295477</td>\n",
       "    </tr>\n",
       "    <tr>\n",
       "      <th>2011</th>\n",
       "      <td>132</td>\n",
       "      <td>0.083324</td>\n",
       "      <td>0.294749</td>\n",
       "    </tr>\n",
       "    <tr>\n",
       "      <th>2012</th>\n",
       "      <td>174</td>\n",
       "      <td>0.109621</td>\n",
       "      <td>0.325692</td>\n",
       "    </tr>\n",
       "    <tr>\n",
       "      <th>2013</th>\n",
       "      <td>210</td>\n",
       "      <td>0.084143</td>\n",
       "      <td>0.323414</td>\n",
       "    </tr>\n",
       "    <tr>\n",
       "      <th>2014</th>\n",
       "      <td>241</td>\n",
       "      <td>0.080411</td>\n",
       "      <td>0.306244</td>\n",
       "    </tr>\n",
       "  </tbody>\n",
       "</table>\n",
       "</div>"
      ],
      "text/plain": [
       "      count  polarity  subjectivity\n",
       "year                               \n",
       "2010    237  0.078909      0.295477\n",
       "2011    132  0.083324      0.294749\n",
       "2012    174  0.109621      0.325692\n",
       "2013    210  0.084143      0.323414\n",
       "2014    241  0.080411      0.306244"
      ]
     },
     "execution_count": 46,
     "metadata": {},
     "output_type": "execute_result"
    }
   ],
   "source": [
    "grouped_tesla = clean_data(df_tesla)\n",
    "grouped_tesla"
   ]
  },
  {
   "cell_type": "code",
   "execution_count": 48,
   "metadata": {},
   "outputs": [
    {
     "data": {
      "text/plain": [
       "<matplotlib.axes._subplots.AxesSubplot at 0x7f07c806c9e8>"
      ]
     },
     "execution_count": 48,
     "metadata": {},
     "output_type": "execute_result"
    },
    {
     "data": {
      "image/png": "[encoded data removed]",
      "text/plain": [
       "<matplotlib.figure.Figure at 0x7f07c81054e0>"
      ]
     },
     "metadata": {},
     "output_type": "display_data"
    }
   ],
   "source": [
    "grouped_tesla['count'].plot(kind='line')"
   ]
  },
  {
   "cell_type": "code",
   "execution_count": 49,
   "metadata": {},
   "outputs": [
    {
     "data": {
      "text/plain": [
       "<matplotlib.axes._subplots.AxesSubplot at 0x7f07c8084be0>"
      ]
     },
     "execution_count": 49,
     "metadata": {},
     "output_type": "execute_result"
    },
    {
     "data": {
      "image/png": "[encoded data removed]",
      "text/plain": [
       "<matplotlib.figure.Figure at 0x7f07c80802e8>"
      ]
     },
     "metadata": {},
     "output_type": "display_data"
    }
   ],
   "source": [
    "grouped_tesla[['subjectivity', 'polarity']].plot(kind='line')"
   ]
  },
  {
   "cell_type": "code",
   "execution_count": 50,
   "metadata": {},
   "outputs": [
    {
     "data": {
      "text/html": [
       "<div>\n",
       "<style>\n",
       "    .dataframe thead tr:only-child th {\n",
       "        text-align: right;\n",
       "    }\n",
       "\n",
       "    .dataframe thead th {\n",
       "        text-align: left;\n",
       "    }\n",
       "\n",
       "    .dataframe tbody tr th {\n",
       "        vertical-align: top;\n",
       "    }\n",
       "</style>\n",
       "<table border=\"1\" class=\"dataframe\">\n",
       "  <thead>\n",
       "    <tr style=\"text-align: right;\">\n",
       "      <th></th>\n",
       "      <th>count</th>\n",
       "      <th>polarity</th>\n",
       "      <th>subjectivity</th>\n",
       "    </tr>\n",
       "  </thead>\n",
       "  <tbody>\n",
       "    <tr>\n",
       "      <th>count</th>\n",
       "      <td>1.000000</td>\n",
       "      <td>-0.401469</td>\n",
       "      <td>0.024404</td>\n",
       "    </tr>\n",
       "    <tr>\n",
       "      <th>polarity</th>\n",
       "      <td>-0.401469</td>\n",
       "      <td>1.000000</td>\n",
       "      <td>0.686891</td>\n",
       "    </tr>\n",
       "    <tr>\n",
       "      <th>subjectivity</th>\n",
       "      <td>0.024404</td>\n",
       "      <td>0.686891</td>\n",
       "      <td>1.000000</td>\n",
       "    </tr>\n",
       "  </tbody>\n",
       "</table>\n",
       "</div>"
      ],
      "text/plain": [
       "                 count  polarity  subjectivity\n",
       "count         1.000000 -0.401469      0.024404\n",
       "polarity     -0.401469  1.000000      0.686891\n",
       "subjectivity  0.024404  0.686891      1.000000"
      ]
     },
     "execution_count": 50,
     "metadata": {},
     "output_type": "execute_result"
    }
   ],
   "source": [
    "grouped_tesla.corr()"
   ]
  }
 ],
 "metadata": {
  "kernelspec": {
   "display_name": "Python 3",
   "language": "python",
   "name": "python3"
  },
  "language_info": {
   "codemirror_mode": {
    "name": "ipython",
    "version": 3
   },
   "file_extension": ".py",
   "mimetype": "text/x-python",
   "name": "python",
   "nbconvert_exporter": "python",
   "pygments_lexer": "ipython3",
   "version": "3.6.3"
  }
 },
 "nbformat": 4,
 "nbformat_minor": 2
}
