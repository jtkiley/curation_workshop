{
 "cells": [
  {
   "cell_type": "markdown",
   "metadata": {},
   "source": [
    "## NYT API: Example with Electric Vehicles for GM and Tesla "
   ]
  },
  {
   "cell_type": "code",
   "execution_count": 3,
   "metadata": {},
   "outputs": [
    {
     "name": "stdout",
     "output_type": "stream",
     "text": [
      "[nltk_data] Downloading package vader_lexicon to\n",
      "[nltk_data]     /Users/Tim/nltk_data...\n",
      "[nltk_data]   Package vader_lexicon is already up-to-date!\n"
     ]
    }
   ],
   "source": [
    "from __future__ import division\n",
    "import pandas\n",
    "from matplotlib import pyplot as plt \n",
    "import seaborn as sns\n",
    "import requests\n",
    "import urllib.parse\n",
    "import json\n",
    "import math\n",
    "import time\n",
    "import csv\n",
    "# from textblob import TextBlob\n",
    "# replace textblob with NLTK (included in Anaconda)\n",
    "# use NLTK’s build-in Vader Sentiment Analyzer\n",
    "import nltk\n",
    "nltk.download('vader_lexicon')\n",
    "from nltk.sentiment.vader import SentimentIntensityAnalyzer\n",
    "\n",
    "%matplotlib inline"
   ]
  },
  {
   "cell_type": "markdown",
   "metadata": {},
   "source": [
    "## This is background info on the NYTimes API for the audience"
   ]
  },
  {
   "cell_type": "markdown",
   "metadata": {},
   "source": [
    ">#### (from NYTimes API FAQ, https://developer.nytimes.com/faq) the Article Search API is rate limited to 1,000 calls per day, and 1 call per second. If you need a higher rate limit, please contact us at code@nytimes.com."
   ]
  },
  {
   "cell_type": "markdown",
   "metadata": {},
   "source": [
    ">#### we'll be using the NYTimes article_search API; this searches NYTimes artiles from Sept 18, 1851 to today, retrieving headlines, abstracts, lead paragraphs, links to associated multimedia and other articl.."
   ]
  },
  {
   "cell_type": "markdown",
   "metadata": {},
   "source": [
    "### The article_search API has the following parameters (not all need to be used):"
   ]
  },
  {
   "cell_type": "markdown",
   "metadata": {},
   "source": [
    "> ##### _q_ - Search query term. Search is performed on the article body, headline and byline"
   ]
  },
  {
   "cell_type": "markdown",
   "metadata": {},
   "source": [
    "> ##### _fq_ - \"Filtered search query using standard Lucene syntax. The filter query can be specified with or without a limiting field: label. See Filtering Your Search for more information about filtering.\""
   ]
  },
  {
   "cell_type": "markdown",
   "metadata": {},
   "source": [
    "> ##### _begin_date_ - \"Format: YYYYMMDD Restricts responses to results with publication dates of the date specified or later.\""
   ]
  },
  {
   "cell_type": "markdown",
   "metadata": {},
   "source": [
    "> ##### _end_date_ - \"Format: YYYYMMDD Restricts responses to results with publication dates of the date specified or earlier.\""
   ]
  },
  {
   "cell_type": "markdown",
   "metadata": {},
   "source": [
    "> ##### _sort_ - \"By default, search results are sorted by their relevance to the query term (q). Use the sort parameter to sort by pub_date.\" Allowed values are: newest, oldest"
   ]
  },
  {
   "cell_type": "markdown",
   "metadata": {},
   "source": [
    "\n",
    "##### manually check this against the NYTimes search webpage: https://www.nytimes.com/search/%22electric%20vehicle%22%20%22charging%22/best/20170101/20180101\n",
    "##### or use their console: http://developer.nytimes.com/article_search_v2.json#/Console/GET/articlesearch.json"
   ]
  },
  {
   "cell_type": "markdown",
   "metadata": {},
   "source": [
    "#### Note: NYTimes API does not seem to support wildcard characters or substring queries"
   ]
  },
  {
   "cell_type": "code",
   "execution_count": 4,
   "metadata": {
    "collapsed": true
   },
   "outputs": [],
   "source": [
    "def grab_data(companyName, query, start_date, end_date): #\"20100101\"\n",
    "\n",
    "    # set key\n",
    "    key = \"23024af0531e446c99d96a8dcfb5cf09\"\n",
    "\n",
    "    # set base url\n",
    "    base_url = \"https://api.nytimes.com/svc/search/v2/articlesearch.json\"\n",
    "\n",
    "    # set search parameters\n",
    "    search_params = {\"fq\": query,\n",
    "                     \"api-key\": key,\n",
    "                     \"begin_date\": start_date ,  # date must be in YYYYMMDD format\n",
    "                     \"end_date\": end_date,\n",
    "                     \"sort\":\"newest\"}\n",
    "\n",
    "    print (search_params)\n",
    "    \n",
    "    # make request\n",
    "    r = requests.get(base_url, params=search_params)\n",
    "\n",
    "    # wait 3 seconds for the GET request\n",
    "    time.sleep(3)\n",
    "\n",
    "    # convert to a dictionary\n",
    "    data = json.loads(r.text)\n",
    "\n",
    "    # get number of hits\n",
    "    hits = data['response']['meta']['hits']\n",
    "    print(\"number of hits: \", str(hits))\n",
    "\n",
    "    # get number of pages\n",
    "    pages = int(math.ceil(hits / 10))\n",
    "    print(\"number of pages: \", str(pages))\n",
    "    \n",
    "    data_all = list()\n",
    "    \n",
    "    # now we're ready to loop through the pages\n",
    "    for i in range(pages):\n",
    "        print(\"collecting page\", str(i))\n",
    "\n",
    "        # set the page parameter\n",
    "        search_params['page'] = i\n",
    "\n",
    "        # make request\n",
    "        r = requests.get(base_url, params=search_params)\n",
    "\n",
    "        # get text and convert to a dictionary\n",
    "        data = json.loads(r.text)\n",
    "        \n",
    "        # append dictionary to master list\n",
    "        data_all.append(data)\n",
    "        time.sleep(3)  # pause between calls\n",
    "    filename = '../data/nyt_%s_ev.txt' % companyName\n",
    "    with open(filename, 'w') as outfile:\n",
    "        json.dump(data_all, outfile)\n",
    "    return data_all"
   ]
  },
  {
   "cell_type": "code",
   "execution_count": 5,
   "metadata": {
    "collapsed": true
   },
   "outputs": [],
   "source": [
    "def gen_df(data):\n",
    "\n",
    "    # make an empty dataframe where we'll hold all of our docs for every page\n",
    "    all_docs = pandas.DataFrame()\n",
    "    for e in data:\n",
    "        # get just the docs\n",
    "        # because some responses are just messages, we need to only gather those with data\n",
    "        if \"response\" in e.keys():\n",
    "            docs = e['response']['docs']\n",
    "            df_temp = pandas.DataFrame(docs)\n",
    "            # add those docs to the dataframe\n",
    "            all_docs = pandas.concat([all_docs, df_temp], ignore_index=True)\n",
    "    return(all_docs)"
   ]
  },
  {
   "cell_type": "code",
   "execution_count": 6,
   "metadata": {},
   "outputs": [],
   "source": [
    "def polarity(text):\n",
    "    sentiment_engine_nltk_vader = SentimentIntensityAnalyzer()\n",
    "    # vader is one of NLTK's sentiment approaches (we could just simply and leave out that detail)\n",
    "    score = sentiment_engine_nltk_vader.polarity_scores(text)\n",
    "    return 1 if score['pos'] > score['neg'] else 0"
   ]
  },
  {
   "cell_type": "code",
   "execution_count": 7,
   "metadata": {
    "collapsed": true
   },
   "outputs": [],
   "source": [
    "def clean_data(df):\n",
    "    df['year'] = df['pub_date'].str[:4]\n",
    "    df['polarity'] = df['snippet'].apply(polarity)\n",
    "    grouped = df[['year','_id']].groupby('year').count()\n",
    "    grouped_text = df[['year', 'polarity']].groupby('year').mean()\n",
    "    grouped_all = grouped.join(grouped_text)\n",
    "    grouped_all.rename(columns={'_id': 'count'}, inplace=True)\n",
    "    grouped_all = grouped_all.fillna(0)\n",
    "    return grouped_all"
   ]
  },
  {
   "cell_type": "markdown",
   "metadata": {},
   "source": [
    "## We start to run the main code here, for the NYTimes, we can set whether we want to search the body, headline, or byline; because there are no partial word searches, we need to take advantage of boolean operators (AND, OR) to combine variations on strings"
   ]
  },
  {
   "cell_type": "code",
   "execution_count": 21,
   "metadata": {},
   "outputs": [],
   "source": [
    "gm_query='(body:\"GM\") AND (body:\"electric car\" OR body:\"electric cars\" OR body:\"electric vehicle\" OR body:\"electric vehicles\")'"
   ]
  },
  {
   "cell_type": "code",
   "execution_count": 22,
   "metadata": {},
   "outputs": [],
   "source": [
    "tesla_query='(body:\"Tesla\") AND (body:\"electric car\" OR body:\"electric cars\" OR body:\"electric vehicle\" OR body:\"electric vehicles\")'"
   ]
  },
  {
   "cell_type": "code",
   "execution_count": 62,
   "metadata": {},
   "outputs": [
    {
     "name": "stdout",
     "output_type": "stream",
     "text": [
      "{'fq': '(body:\"GM\") AND (body:\"electric car\" OR body:\"electric cars\" OR body:\"electric vehicle\" OR body:\"electric vehicles\")', 'api-key': '23024af0531e446c99d96a8dcfb5cf09', 'begin_date': 20050101, 'end_date': 20160101, 'sort': 'newest'}\n",
      "number of hits:  38\n",
      "number of pages:  4\n",
      "collecting page 0\n",
      "collecting page 1\n",
      "collecting page 2\n",
      "collecting page 3\n"
     ]
    }
   ],
   "source": [
    "data_gm_ev = grab_data(\"gm\", gm_query, 20050101, 20160101)"
   ]
  },
  {
   "cell_type": "code",
   "execution_count": 63,
   "metadata": {},
   "outputs": [
    {
     "name": "stdout",
     "output_type": "stream",
     "text": [
      "{'fq': '(body:\"Tesla\") AND (body:\"electric car\" OR body:\"electric cars\" OR body:\"electric vehicle\" OR body:\"electric vehicles\")', 'api-key': '23024af0531e446c99d96a8dcfb5cf09', 'begin_date': 20050101, 'end_date': 20160101, 'sort': 'newest'}\n",
      "number of hits:  739\n",
      "number of pages:  74\n",
      "collecting page 0\n",
      "collecting page 1\n",
      "collecting page 2\n",
      "collecting page 3\n",
      "collecting page 4\n",
      "collecting page 5\n",
      "collecting page 6\n",
      "collecting page 7\n",
      "collecting page 8\n",
      "collecting page 9\n",
      "collecting page 10\n",
      "collecting page 11\n",
      "collecting page 12\n",
      "collecting page 13\n",
      "collecting page 14\n",
      "collecting page 15\n",
      "collecting page 16\n",
      "collecting page 17\n",
      "collecting page 18\n",
      "collecting page 19\n",
      "collecting page 20\n",
      "collecting page 21\n",
      "collecting page 22\n",
      "collecting page 23\n",
      "collecting page 24\n",
      "collecting page 25\n",
      "collecting page 26\n",
      "collecting page 27\n",
      "collecting page 28\n",
      "collecting page 29\n",
      "collecting page 30\n",
      "collecting page 31\n",
      "collecting page 32\n",
      "collecting page 33\n",
      "collecting page 34\n",
      "collecting page 35\n",
      "collecting page 36\n",
      "collecting page 37\n",
      "collecting page 38\n",
      "collecting page 39\n",
      "collecting page 40\n",
      "collecting page 41\n",
      "collecting page 42\n",
      "collecting page 43\n",
      "collecting page 44\n",
      "collecting page 45\n",
      "collecting page 46\n",
      "collecting page 47\n",
      "collecting page 48\n",
      "collecting page 49\n",
      "collecting page 50\n",
      "collecting page 51\n",
      "collecting page 52\n",
      "collecting page 53\n",
      "collecting page 54\n",
      "collecting page 55\n",
      "collecting page 56\n",
      "collecting page 57\n",
      "collecting page 58\n",
      "collecting page 59\n",
      "collecting page 60\n",
      "collecting page 61\n",
      "collecting page 62\n",
      "collecting page 63\n",
      "collecting page 64\n",
      "collecting page 65\n",
      "collecting page 66\n",
      "collecting page 67\n",
      "collecting page 68\n",
      "collecting page 69\n",
      "collecting page 70\n",
      "collecting page 71\n",
      "collecting page 72\n",
      "collecting page 73\n"
     ]
    }
   ],
   "source": [
    "data_tesla_ev = grab_data(\"tesla\", tesla_query, 20050101, 20160101)"
   ]
  },
  {
   "cell_type": "markdown",
   "metadata": {},
   "source": [
    "### we have generated two files on disk with the output of the NYTimes search, let's load them here"
   ]
  },
  {
   "cell_type": "code",
   "execution_count": 65,
   "metadata": {},
   "outputs": [],
   "source": [
    "with open(\"../data/nyt_gm_ev.txt\", 'r') as file:\n",
    "    data_gm_ev = json.load(file)"
   ]
  },
  {
   "cell_type": "code",
   "execution_count": 66,
   "metadata": {},
   "outputs": [],
   "source": [
    "with open(\"../data/nyt_tesla_ev.txt\", 'r') as file:\n",
    "    data_tesla_ev = json.load(file)"
   ]
  },
  {
   "cell_type": "markdown",
   "metadata": {},
   "source": [
    "### turn these data into Dataframes"
   ]
  },
  {
   "cell_type": "code",
   "execution_count": 67,
   "metadata": {},
   "outputs": [],
   "source": [
    "df_gm = gen_df(data_gm_ev)"
   ]
  },
  {
   "cell_type": "code",
   "execution_count": 68,
   "metadata": {},
   "outputs": [],
   "source": [
    "df_tesla = gen_df(data_tesla_ev)"
   ]
  },
  {
   "cell_type": "markdown",
   "metadata": {},
   "source": [
    "### Clean the data"
   ]
  },
  {
   "cell_type": "code",
   "execution_count": 69,
   "metadata": {},
   "outputs": [],
   "source": [
    "grouped_gm = clean_data(df_gm)"
   ]
  },
  {
   "cell_type": "code",
   "execution_count": 70,
   "metadata": {},
   "outputs": [],
   "source": [
    "grouped_tesla = clean_data(df_tesla)"
   ]
  },
  {
   "cell_type": "markdown",
   "metadata": {},
   "source": [
    "### Inspect the grouped data"
   ]
  },
  {
   "cell_type": "code",
   "execution_count": 71,
   "metadata": {},
   "outputs": [
    {
     "data": {
      "text/html": [
       "<div>\n",
       "<style scoped>\n",
       "    .dataframe tbody tr th:only-of-type {\n",
       "        vertical-align: middle;\n",
       "    }\n",
       "\n",
       "    .dataframe tbody tr th {\n",
       "        vertical-align: top;\n",
       "    }\n",
       "\n",
       "    .dataframe thead th {\n",
       "        text-align: right;\n",
       "    }\n",
       "</style>\n",
       "<table border=\"1\" class=\"dataframe\">\n",
       "  <thead>\n",
       "    <tr style=\"text-align: right;\">\n",
       "      <th></th>\n",
       "      <th>count</th>\n",
       "      <th>polarity</th>\n",
       "    </tr>\n",
       "    <tr>\n",
       "      <th>year</th>\n",
       "      <th></th>\n",
       "      <th></th>\n",
       "    </tr>\n",
       "  </thead>\n",
       "  <tbody>\n",
       "    <tr>\n",
       "      <th>2005</th>\n",
       "      <td>1</td>\n",
       "      <td>1.000000</td>\n",
       "    </tr>\n",
       "    <tr>\n",
       "      <th>2006</th>\n",
       "      <td>1</td>\n",
       "      <td>0.000000</td>\n",
       "    </tr>\n",
       "    <tr>\n",
       "      <th>2007</th>\n",
       "      <td>4</td>\n",
       "      <td>0.500000</td>\n",
       "    </tr>\n",
       "    <tr>\n",
       "      <th>2008</th>\n",
       "      <td>5</td>\n",
       "      <td>0.400000</td>\n",
       "    </tr>\n",
       "    <tr>\n",
       "      <th>2009</th>\n",
       "      <td>9</td>\n",
       "      <td>0.222222</td>\n",
       "    </tr>\n",
       "  </tbody>\n",
       "</table>\n",
       "</div>"
      ],
      "text/plain": [
       "      count  polarity\n",
       "year                 \n",
       "2005      1  1.000000\n",
       "2006      1  0.000000\n",
       "2007      4  0.500000\n",
       "2008      5  0.400000\n",
       "2009      9  0.222222"
      ]
     },
     "execution_count": 71,
     "metadata": {},
     "output_type": "execute_result"
    }
   ],
   "source": [
    "grouped_gm.head()"
   ]
  },
  {
   "cell_type": "code",
   "execution_count": 72,
   "metadata": {},
   "outputs": [
    {
     "data": {
      "text/html": [
       "<div>\n",
       "<style scoped>\n",
       "    .dataframe tbody tr th:only-of-type {\n",
       "        vertical-align: middle;\n",
       "    }\n",
       "\n",
       "    .dataframe tbody tr th {\n",
       "        vertical-align: top;\n",
       "    }\n",
       "\n",
       "    .dataframe thead th {\n",
       "        text-align: right;\n",
       "    }\n",
       "</style>\n",
       "<table border=\"1\" class=\"dataframe\">\n",
       "  <thead>\n",
       "    <tr style=\"text-align: right;\">\n",
       "      <th></th>\n",
       "      <th>count</th>\n",
       "      <th>polarity</th>\n",
       "    </tr>\n",
       "    <tr>\n",
       "      <th>year</th>\n",
       "      <th></th>\n",
       "      <th></th>\n",
       "    </tr>\n",
       "  </thead>\n",
       "  <tbody>\n",
       "    <tr>\n",
       "      <th>2006</th>\n",
       "      <td>6</td>\n",
       "      <td>0.333333</td>\n",
       "    </tr>\n",
       "    <tr>\n",
       "      <th>2007</th>\n",
       "      <td>28</td>\n",
       "      <td>0.535714</td>\n",
       "    </tr>\n",
       "    <tr>\n",
       "      <th>2008</th>\n",
       "      <td>57</td>\n",
       "      <td>0.526316</td>\n",
       "    </tr>\n",
       "    <tr>\n",
       "      <th>2009</th>\n",
       "      <td>78</td>\n",
       "      <td>0.512821</td>\n",
       "    </tr>\n",
       "    <tr>\n",
       "      <th>2010</th>\n",
       "      <td>157</td>\n",
       "      <td>0.503185</td>\n",
       "    </tr>\n",
       "  </tbody>\n",
       "</table>\n",
       "</div>"
      ],
      "text/plain": [
       "      count  polarity\n",
       "year                 \n",
       "2006      6  0.333333\n",
       "2007     28  0.535714\n",
       "2008     57  0.526316\n",
       "2009     78  0.512821\n",
       "2010    157  0.503185"
      ]
     },
     "execution_count": 72,
     "metadata": {},
     "output_type": "execute_result"
    }
   ],
   "source": [
    "grouped_tesla.head()"
   ]
  },
  {
   "cell_type": "markdown",
   "metadata": {},
   "source": [
    "### Plot the count column in our dataframe"
   ]
  },
  {
   "cell_type": "code",
   "execution_count": 73,
   "metadata": {},
   "outputs": [
    {
     "data": {
      "image/png": "[encoded data removed]",
      "text/plain": [
       "<matplotlib.figure.Figure at 0x1a1b7ec7f0>"
      ]
     },
     "metadata": {},
     "output_type": "display_data"
    }
   ],
   "source": [
    "ax = grouped_gm['count'].plot(kind='line', color='b')\n",
    "x_labels = grouped_gm.index\n",
    "ax.set_xticklabels(x_labels)\n",
    "plt.show()"
   ]
  },
  {
   "cell_type": "code",
   "execution_count": 74,
   "metadata": {},
   "outputs": [
    {
     "data": {
      "image/png": "[encoded data removed]",
      "text/plain": [
       "<matplotlib.figure.Figure at 0x1a1bf99f28>"
      ]
     },
     "metadata": {},
     "output_type": "display_data"
    }
   ],
   "source": [
    "ax = grouped_tesla['count'].plot(kind='line', color='r')\n",
    "x_labels = grouped_gm.index\n",
    "ax.set_xticklabels(x_labels)\n",
    "plt.show()"
   ]
  },
  {
   "cell_type": "markdown",
   "metadata": {},
   "source": [
    "### Show both plots on the same graph"
   ]
  },
  {
   "cell_type": "code",
   "execution_count": 75,
   "metadata": {},
   "outputs": [],
   "source": [
    "combined_df = pandas.concat([grouped_gm, grouped_tesla], axis=1)"
   ]
  },
  {
   "cell_type": "code",
   "execution_count": 76,
   "metadata": {},
   "outputs": [],
   "source": [
    "# need to rename our columns and index (note: this could be avoided through better use of the concat function above)\n",
    "combined_df.columns=[\"GM_count\", \"GM_polarity\", \"Tesla_count\", \"Tesla_polarity\"]\n",
    "combined_df.index_name = \"year\""
   ]
  },
  {
   "cell_type": "code",
   "execution_count": 77,
   "metadata": {},
   "outputs": [],
   "source": [
    "combined_df = combined_df.fillna(0)"
   ]
  },
  {
   "cell_type": "code",
   "execution_count": 78,
   "metadata": {},
   "outputs": [
    {
     "data": {
      "text/html": [
       "<div>\n",
       "<style scoped>\n",
       "    .dataframe tbody tr th:only-of-type {\n",
       "        vertical-align: middle;\n",
       "    }\n",
       "\n",
       "    .dataframe tbody tr th {\n",
       "        vertical-align: top;\n",
       "    }\n",
       "\n",
       "    .dataframe thead th {\n",
       "        text-align: right;\n",
       "    }\n",
       "</style>\n",
       "<table border=\"1\" class=\"dataframe\">\n",
       "  <thead>\n",
       "    <tr style=\"text-align: right;\">\n",
       "      <th></th>\n",
       "      <th>GM_count</th>\n",
       "      <th>GM_polarity</th>\n",
       "      <th>Tesla_count</th>\n",
       "      <th>Tesla_polarity</th>\n",
       "    </tr>\n",
       "  </thead>\n",
       "  <tbody>\n",
       "    <tr>\n",
       "      <th>2005</th>\n",
       "      <td>1</td>\n",
       "      <td>1.000000</td>\n",
       "      <td>0.0</td>\n",
       "      <td>0.000000</td>\n",
       "    </tr>\n",
       "    <tr>\n",
       "      <th>2006</th>\n",
       "      <td>1</td>\n",
       "      <td>0.000000</td>\n",
       "      <td>6.0</td>\n",
       "      <td>0.333333</td>\n",
       "    </tr>\n",
       "    <tr>\n",
       "      <th>2007</th>\n",
       "      <td>4</td>\n",
       "      <td>0.500000</td>\n",
       "      <td>28.0</td>\n",
       "      <td>0.535714</td>\n",
       "    </tr>\n",
       "    <tr>\n",
       "      <th>2008</th>\n",
       "      <td>5</td>\n",
       "      <td>0.400000</td>\n",
       "      <td>57.0</td>\n",
       "      <td>0.526316</td>\n",
       "    </tr>\n",
       "    <tr>\n",
       "      <th>2009</th>\n",
       "      <td>9</td>\n",
       "      <td>0.222222</td>\n",
       "      <td>78.0</td>\n",
       "      <td>0.512821</td>\n",
       "    </tr>\n",
       "  </tbody>\n",
       "</table>\n",
       "</div>"
      ],
      "text/plain": [
       "      GM_count  GM_polarity  Tesla_count  Tesla_polarity\n",
       "2005         1     1.000000          0.0        0.000000\n",
       "2006         1     0.000000          6.0        0.333333\n",
       "2007         4     0.500000         28.0        0.535714\n",
       "2008         5     0.400000         57.0        0.526316\n",
       "2009         9     0.222222         78.0        0.512821"
      ]
     },
     "execution_count": 78,
     "metadata": {},
     "output_type": "execute_result"
    }
   ],
   "source": [
    "combined_df.head()"
   ]
  },
  {
   "cell_type": "markdown",
   "metadata": {},
   "source": [
    "### Plot the combined dataframe"
   ]
  },
  {
   "cell_type": "code",
   "execution_count": 79,
   "metadata": {},
   "outputs": [
    {
     "data": {
      "text/html": [
       "<div>\n",
       "<style scoped>\n",
       "    .dataframe tbody tr th:only-of-type {\n",
       "        vertical-align: middle;\n",
       "    }\n",
       "\n",
       "    .dataframe tbody tr th {\n",
       "        vertical-align: top;\n",
       "    }\n",
       "\n",
       "    .dataframe thead th {\n",
       "        text-align: right;\n",
       "    }\n",
       "</style>\n",
       "<table border=\"1\" class=\"dataframe\">\n",
       "  <thead>\n",
       "    <tr style=\"text-align: right;\">\n",
       "      <th></th>\n",
       "      <th>GM_count</th>\n",
       "      <th>Tesla_count</th>\n",
       "    </tr>\n",
       "  </thead>\n",
       "  <tbody>\n",
       "    <tr>\n",
       "      <th>2005</th>\n",
       "      <td>1</td>\n",
       "      <td>0.0</td>\n",
       "    </tr>\n",
       "    <tr>\n",
       "      <th>2006</th>\n",
       "      <td>1</td>\n",
       "      <td>6.0</td>\n",
       "    </tr>\n",
       "    <tr>\n",
       "      <th>2007</th>\n",
       "      <td>4</td>\n",
       "      <td>28.0</td>\n",
       "    </tr>\n",
       "    <tr>\n",
       "      <th>2008</th>\n",
       "      <td>5</td>\n",
       "      <td>57.0</td>\n",
       "    </tr>\n",
       "    <tr>\n",
       "      <th>2009</th>\n",
       "      <td>9</td>\n",
       "      <td>78.0</td>\n",
       "    </tr>\n",
       "    <tr>\n",
       "      <th>2010</th>\n",
       "      <td>10</td>\n",
       "      <td>157.0</td>\n",
       "    </tr>\n",
       "    <tr>\n",
       "      <th>2011</th>\n",
       "      <td>3</td>\n",
       "      <td>77.0</td>\n",
       "    </tr>\n",
       "    <tr>\n",
       "      <th>2012</th>\n",
       "      <td>1</td>\n",
       "      <td>72.0</td>\n",
       "    </tr>\n",
       "    <tr>\n",
       "      <th>2013</th>\n",
       "      <td>1</td>\n",
       "      <td>104.0</td>\n",
       "    </tr>\n",
       "    <tr>\n",
       "      <th>2014</th>\n",
       "      <td>2</td>\n",
       "      <td>84.0</td>\n",
       "    </tr>\n",
       "    <tr>\n",
       "      <th>2015</th>\n",
       "      <td>1</td>\n",
       "      <td>76.0</td>\n",
       "    </tr>\n",
       "  </tbody>\n",
       "</table>\n",
       "</div>"
      ],
      "text/plain": [
       "      GM_count  Tesla_count\n",
       "2005         1          0.0\n",
       "2006         1          6.0\n",
       "2007         4         28.0\n",
       "2008         5         57.0\n",
       "2009         9         78.0\n",
       "2010        10        157.0\n",
       "2011         3         77.0\n",
       "2012         1         72.0\n",
       "2013         1        104.0\n",
       "2014         2         84.0\n",
       "2015         1         76.0"
      ]
     },
     "execution_count": 79,
     "metadata": {},
     "output_type": "execute_result"
    }
   ],
   "source": [
    "combined_df[[\"GM_count\", \"Tesla_count\"]]"
   ]
  },
  {
   "cell_type": "code",
   "execution_count": 80,
   "metadata": {},
   "outputs": [
    {
     "data": {
      "text/plain": [
       "<matplotlib.axes._subplots.AxesSubplot at 0x113efa2b0>"
      ]
     },
     "execution_count": 80,
     "metadata": {},
     "output_type": "execute_result"
    },
    {
     "data": {
      "image/png": "[encoded data removed]",
      "text/plain": [
       "<matplotlib.figure.Figure at 0x1a1b809f28>"
      ]
     },
     "metadata": {},
     "output_type": "display_data"
    }
   ],
   "source": [
    "combined_df[[\"GM_count\", \"Tesla_count\"]].plot()"
   ]
  },
  {
   "cell_type": "markdown",
   "metadata": {},
   "source": [
    "## 2010 was a big year for Tesla, and GM [Hovig to fill in what happened in 2010 from the case]"
   ]
  },
  {
   "cell_type": "code",
   "execution_count": 81,
   "metadata": {},
   "outputs": [
    {
     "data": {
      "text/html": [
       "<div>\n",
       "<style scoped>\n",
       "    .dataframe tbody tr th:only-of-type {\n",
       "        vertical-align: middle;\n",
       "    }\n",
       "\n",
       "    .dataframe tbody tr th {\n",
       "        vertical-align: top;\n",
       "    }\n",
       "\n",
       "    .dataframe thead th {\n",
       "        text-align: right;\n",
       "    }\n",
       "</style>\n",
       "<table border=\"1\" class=\"dataframe\">\n",
       "  <thead>\n",
       "    <tr style=\"text-align: right;\">\n",
       "      <th></th>\n",
       "      <th>GM_polarity</th>\n",
       "      <th>Tesla_polarity</th>\n",
       "    </tr>\n",
       "  </thead>\n",
       "  <tbody>\n",
       "    <tr>\n",
       "      <th>2005</th>\n",
       "      <td>1.000000</td>\n",
       "      <td>0.000000</td>\n",
       "    </tr>\n",
       "    <tr>\n",
       "      <th>2006</th>\n",
       "      <td>0.000000</td>\n",
       "      <td>0.333333</td>\n",
       "    </tr>\n",
       "    <tr>\n",
       "      <th>2007</th>\n",
       "      <td>0.500000</td>\n",
       "      <td>0.535714</td>\n",
       "    </tr>\n",
       "    <tr>\n",
       "      <th>2008</th>\n",
       "      <td>0.400000</td>\n",
       "      <td>0.526316</td>\n",
       "    </tr>\n",
       "    <tr>\n",
       "      <th>2009</th>\n",
       "      <td>0.222222</td>\n",
       "      <td>0.512821</td>\n",
       "    </tr>\n",
       "    <tr>\n",
       "      <th>2010</th>\n",
       "      <td>0.600000</td>\n",
       "      <td>0.503185</td>\n",
       "    </tr>\n",
       "    <tr>\n",
       "      <th>2011</th>\n",
       "      <td>0.333333</td>\n",
       "      <td>0.376623</td>\n",
       "    </tr>\n",
       "    <tr>\n",
       "      <th>2012</th>\n",
       "      <td>1.000000</td>\n",
       "      <td>0.430556</td>\n",
       "    </tr>\n",
       "    <tr>\n",
       "      <th>2013</th>\n",
       "      <td>1.000000</td>\n",
       "      <td>0.403846</td>\n",
       "    </tr>\n",
       "    <tr>\n",
       "      <th>2014</th>\n",
       "      <td>0.000000</td>\n",
       "      <td>0.488095</td>\n",
       "    </tr>\n",
       "    <tr>\n",
       "      <th>2015</th>\n",
       "      <td>1.000000</td>\n",
       "      <td>0.447368</td>\n",
       "    </tr>\n",
       "  </tbody>\n",
       "</table>\n",
       "</div>"
      ],
      "text/plain": [
       "      GM_polarity  Tesla_polarity\n",
       "2005     1.000000        0.000000\n",
       "2006     0.000000        0.333333\n",
       "2007     0.500000        0.535714\n",
       "2008     0.400000        0.526316\n",
       "2009     0.222222        0.512821\n",
       "2010     0.600000        0.503185\n",
       "2011     0.333333        0.376623\n",
       "2012     1.000000        0.430556\n",
       "2013     1.000000        0.403846\n",
       "2014     0.000000        0.488095\n",
       "2015     1.000000        0.447368"
      ]
     },
     "execution_count": 81,
     "metadata": {},
     "output_type": "execute_result"
    }
   ],
   "source": [
    "combined_df[[\"GM_polarity\",\"Tesla_polarity\"]]"
   ]
  },
  {
   "cell_type": "code",
   "execution_count": 56,
   "metadata": {},
   "outputs": [
    {
     "data": {
      "text/plain": [
       "<matplotlib.axes._subplots.AxesSubplot at 0x114b93128>"
      ]
     },
     "execution_count": 56,
     "metadata": {},
     "output_type": "execute_result"
    },
    {
     "data": {
      "image/png": "[encoded data removed]",
      "text/plain": [
       "<matplotlib.figure.Figure at 0x114b48f60>"
      ]
     },
     "metadata": {},
     "output_type": "display_data"
    }
   ],
   "source": [
    "combined_df[[\"GM_polarity\",\"Tesla_polarity\"]].plot()"
   ]
  },
  {
   "cell_type": "markdown",
   "metadata": {},
   "source": [
    "### 2005 might be misleading because there is only a single article for GM (it is positive); trying again with 2006-2015"
   ]
  },
  {
   "cell_type": "code",
   "execution_count": 82,
   "metadata": {},
   "outputs": [
    {
     "data": {
      "text/html": [
       "<div>\n",
       "<style scoped>\n",
       "    .dataframe tbody tr th:only-of-type {\n",
       "        vertical-align: middle;\n",
       "    }\n",
       "\n",
       "    .dataframe tbody tr th {\n",
       "        vertical-align: top;\n",
       "    }\n",
       "\n",
       "    .dataframe thead th {\n",
       "        text-align: right;\n",
       "    }\n",
       "</style>\n",
       "<table border=\"1\" class=\"dataframe\">\n",
       "  <thead>\n",
       "    <tr style=\"text-align: right;\">\n",
       "      <th></th>\n",
       "      <th>GM_polarity</th>\n",
       "      <th>Tesla_polarity</th>\n",
       "    </tr>\n",
       "  </thead>\n",
       "  <tbody>\n",
       "    <tr>\n",
       "      <th>2006</th>\n",
       "      <td>0.000000</td>\n",
       "      <td>0.333333</td>\n",
       "    </tr>\n",
       "    <tr>\n",
       "      <th>2007</th>\n",
       "      <td>0.500000</td>\n",
       "      <td>0.535714</td>\n",
       "    </tr>\n",
       "    <tr>\n",
       "      <th>2008</th>\n",
       "      <td>0.400000</td>\n",
       "      <td>0.526316</td>\n",
       "    </tr>\n",
       "    <tr>\n",
       "      <th>2009</th>\n",
       "      <td>0.222222</td>\n",
       "      <td>0.512821</td>\n",
       "    </tr>\n",
       "    <tr>\n",
       "      <th>2010</th>\n",
       "      <td>0.600000</td>\n",
       "      <td>0.503185</td>\n",
       "    </tr>\n",
       "    <tr>\n",
       "      <th>2011</th>\n",
       "      <td>0.333333</td>\n",
       "      <td>0.376623</td>\n",
       "    </tr>\n",
       "    <tr>\n",
       "      <th>2012</th>\n",
       "      <td>1.000000</td>\n",
       "      <td>0.430556</td>\n",
       "    </tr>\n",
       "    <tr>\n",
       "      <th>2013</th>\n",
       "      <td>1.000000</td>\n",
       "      <td>0.403846</td>\n",
       "    </tr>\n",
       "    <tr>\n",
       "      <th>2014</th>\n",
       "      <td>0.000000</td>\n",
       "      <td>0.488095</td>\n",
       "    </tr>\n",
       "    <tr>\n",
       "      <th>2015</th>\n",
       "      <td>1.000000</td>\n",
       "      <td>0.447368</td>\n",
       "    </tr>\n",
       "  </tbody>\n",
       "</table>\n",
       "</div>"
      ],
      "text/plain": [
       "      GM_polarity  Tesla_polarity\n",
       "2006     0.000000        0.333333\n",
       "2007     0.500000        0.535714\n",
       "2008     0.400000        0.526316\n",
       "2009     0.222222        0.512821\n",
       "2010     0.600000        0.503185\n",
       "2011     0.333333        0.376623\n",
       "2012     1.000000        0.430556\n",
       "2013     1.000000        0.403846\n",
       "2014     0.000000        0.488095\n",
       "2015     1.000000        0.447368"
      ]
     },
     "execution_count": 82,
     "metadata": {},
     "output_type": "execute_result"
    }
   ],
   "source": [
    "combined_df[[\"GM_polarity\",\"Tesla_polarity\"]].iloc[1:]"
   ]
  },
  {
   "cell_type": "code",
   "execution_count": 83,
   "metadata": {},
   "outputs": [
    {
     "data": {
      "text/plain": [
       "<matplotlib.axes._subplots.AxesSubplot at 0x11428d358>"
      ]
     },
     "execution_count": 83,
     "metadata": {},
     "output_type": "execute_result"
    },
    {
     "data": {
      "image/png": "[encoded data removed]",
      "text/plain": [
       "<matplotlib.figure.Figure at 0x1141decf8>"
      ]
     },
     "metadata": {},
     "output_type": "display_data"
    }
   ],
   "source": [
    "combined_df[[\"GM_polarity\",\"Tesla_polarity\"]].iloc[1:].plot()"
   ]
  }
 ],
 "metadata": {
  "kernelspec": {
   "display_name": "Python 3",
   "language": "python",
   "name": "python3"
  },
  "language_info": {
   "codemirror_mode": {
    "name": "ipython",
    "version": 3
   },
   "file_extension": ".py",
   "mimetype": "text/x-python",
   "name": "python",
   "nbconvert_exporter": "python",
   "pygments_lexer": "ipython3",
   "version": "3.6.4"
  }
 },
 "nbformat": 4,
 "nbformat_minor": 2
}
