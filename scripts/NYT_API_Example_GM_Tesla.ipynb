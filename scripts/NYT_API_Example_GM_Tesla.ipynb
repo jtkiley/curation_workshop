{
 "cells": [
  {
   "cell_type": "markdown",
   "metadata": {},
   "source": [
    "## NYT API: Example with Electric Vehicles for GM and Tesla "
   ]
  },
  {
   "cell_type": "code",
   "execution_count": 71,
   "metadata": {},
   "outputs": [],
   "source": [
    "from __future__ import division\n",
    "import pandas\n",
    "from matplotlib import pyplot as plt \n",
    "import requests\n",
    "import urllib.parse\n",
    "import json\n",
    "import math\n",
    "import time\n",
    "import csv\n",
    "from textblob import TextBlob\n",
    "# to install, use: conda install -c conda-forge textblob \n",
    "%matplotlib inline"
   ]
  },
  {
   "cell_type": "markdown",
   "metadata": {},
   "source": [
    "## This is background info on the NYTimes API for the audience"
   ]
  },
  {
   "cell_type": "markdown",
   "metadata": {},
   "source": [
    ">#### (from NYTimes API FAQ, https://developer.nytimes.com/faq) the Article Search API is rate limited to 1,000 calls per day, and 1 call per second. If you need a higher rate limit, please contact us at code@nytimes.com."
   ]
  },
  {
   "cell_type": "markdown",
   "metadata": {},
   "source": [
    ">#### we'll be using the NYTimes article_search API; this searches NYTimes artiles from Sept 18, 1851 to today, retrieving headlines, abstracts, lead paragraphs, links to associated multimedia and other articl.."
   ]
  },
  {
   "cell_type": "markdown",
   "metadata": {},
   "source": [
    "### The article_search API has the following parameters (not all need to be used):"
   ]
  },
  {
   "cell_type": "markdown",
   "metadata": {},
   "source": [
    "> ##### _q_ - Search query term. Search is performed on the article body, headline and byline"
   ]
  },
  {
   "cell_type": "markdown",
   "metadata": {},
   "source": [
    "> ##### _fq_ - \"Filtered search query using standard Lucene syntax. The filter query can be specified with or without a limiting field: label. See Filtering Your Search for more information about filtering.\""
   ]
  },
  {
   "cell_type": "markdown",
   "metadata": {},
   "source": [
    "> ##### _begin_date_ - \"Format: YYYYMMDD Restricts responses to results with publication dates of the date specified or later.\""
   ]
  },
  {
   "cell_type": "markdown",
   "metadata": {},
   "source": [
    "> ##### _end_date_ - \"Format: YYYYMMDD Restricts responses to results with publication dates of the date specified or earlier.\""
   ]
  },
  {
   "cell_type": "markdown",
   "metadata": {},
   "source": [
    "> ##### _sort_ - \"By default, search results are sorted by their relevance to the query term (q). Use the sort parameter to sort by pub_date.\" Allowed values are: newest, oldest"
   ]
  },
  {
   "cell_type": "markdown",
   "metadata": {},
   "source": [
    "\n",
    "##### manually check this against the NYTimes search webpage: https://www.nytimes.com/search/%22electric%20vehicle%22%20%22charging%22/best/20170101/20180101\n",
    "##### or use their console: http://developer.nytimes.com/article_search_v2.json#/Console/GET/articlesearch.json"
   ]
  },
  {
   "cell_type": "markdown",
   "metadata": {},
   "source": [
    "#### Note: NYTimes API does not seem to support wildcard characters or substring queries"
   ]
  },
  {
   "cell_type": "code",
   "execution_count": 3,
   "metadata": {
    "collapsed": true
   },
   "outputs": [],
   "source": [
    "def grab_data(companyName, query, start_date, end_date): #\"20100101\"\n",
    "\n",
    "    # set key\n",
    "    key = \"23024af0531e446c99d96a8dcfb5cf09\"\n",
    "\n",
    "    # set base url\n",
    "    base_url = \"https://api.nytimes.com/svc/search/v2/articlesearch.json\"\n",
    "\n",
    "    # set search parameters\n",
    "    search_params = {\"fq\": query,\n",
    "                     \"api-key\": key,\n",
    "                     \"begin_date\": start_date ,  # date must be in YYYYMMDD format\n",
    "                     \"end_date\": end_date,\n",
    "                     \"sort\":\"newest\"}\n",
    "\n",
    "    print (search_params)\n",
    "    \n",
    "    # make request\n",
    "    r = requests.get(base_url, params=search_params)\n",
    "\n",
    "    # wait 3 seconds for the GET request\n",
    "    time.sleep(3)\n",
    "\n",
    "    # convert to a dictionary\n",
    "    data = json.loads(r.text)\n",
    "\n",
    "    # get number of hits\n",
    "    hits = data['response']['meta']['hits']\n",
    "    print(\"number of hits: \", str(hits))\n",
    "\n",
    "    # get number of pages\n",
    "    pages = int(math.ceil(hits / 10))\n",
    "    print(\"number of pages: \", str(pages))\n",
    "    \n",
    "    data_all = list()\n",
    "    \n",
    "    # now we're ready to loop through the pages\n",
    "    for i in range(pages):\n",
    "        print(\"collecting page\", str(i))\n",
    "\n",
    "        # set the page parameter\n",
    "        search_params['page'] = i\n",
    "\n",
    "        # make request\n",
    "        r = requests.get(base_url, params=search_params)\n",
    "\n",
    "        # get text and convert to a dictionary\n",
    "        data = json.loads(r.text)\n",
    "        \n",
    "        # append dictionary to master list\n",
    "        data_all.append(data)\n",
    "        time.sleep(3)  # pause between calls\n",
    "    filename = '../data/nyt_%s_ev.txt' % companyName\n",
    "    with open(filename, 'w') as outfile:\n",
    "        json.dump(data_all, outfile)\n",
    "    return data_all"
   ]
  },
  {
   "cell_type": "code",
   "execution_count": 4,
   "metadata": {
    "collapsed": true
   },
   "outputs": [],
   "source": [
    "def gen_df(data):\n",
    "\n",
    "    # make an empty dataframe where we'll hold all of our docs for every page\n",
    "    all_docs = pandas.DataFrame()\n",
    "    for e in data:\n",
    "        # get just the docs\n",
    "        # because some responses are just messages, we need to only gather those with data\n",
    "        if \"response\" in e.keys():\n",
    "            docs = e['response']['docs']\n",
    "            df_temp = pandas.DataFrame(docs)\n",
    "            # add those docs to the dataframe\n",
    "            all_docs = pandas.concat([all_docs, df_temp], ignore_index=True)\n",
    "    return(all_docs)"
   ]
  },
  {
   "cell_type": "code",
   "execution_count": 72,
   "metadata": {},
   "outputs": [],
   "source": [
    "def polarity(text):\n",
    "    text_blobbed = TextBlob(text)\n",
    "    return text_blobbed.sentiment.polarity"
   ]
  },
  {
   "cell_type": "code",
   "execution_count": 73,
   "metadata": {
    "collapsed": true
   },
   "outputs": [],
   "source": [
    "def clean_data(df):\n",
    "    df['year'] = df['pub_date'].str[:4]\n",
    "    df['polarity'] = df['snippet'].apply(polarity) # apply the sentiment analysis method on the snippet\n",
    "    grouped = df[['year','_id']].groupby('year').count()\n",
    "    grouped_text = df[['year', 'polarity']].groupby('year').mean()\n",
    "    grouped_all = grouped.join(grouped_text)\n",
    "    grouped_all.rename(columns={'_id': 'count'}, inplace=True)\n",
    "    grouped_all = grouped_all.fillna(0)\n",
    "    return grouped_all"
   ]
  },
  {
   "cell_type": "markdown",
   "metadata": {},
   "source": [
    "## We start to run the main code here, for the NYTimes, we can set whether we want to search the body, headline, or byline; because there are no partial word searches, we need to take advantage of boolean operators (AND, OR) to combine variations on strings"
   ]
  },
  {
   "cell_type": "code",
   "execution_count": 7,
   "metadata": {},
   "outputs": [],
   "source": [
    "gm_query='(body:\"GM\") AND (body:\"electric car\" OR body:\"electric cars\" OR body:\"electric vehicle\" OR body:\"electric vehicles\")'"
   ]
  },
  {
   "cell_type": "code",
   "execution_count": 8,
   "metadata": {},
   "outputs": [],
   "source": [
    "tesla_query='(body:\"Tesla\") AND (body:\"electric car\" OR body:\"electric cars\" OR body:\"electric vehicle\" OR body:\"electric vehicles\")'"
   ]
  },
  {
   "cell_type": "code",
   "execution_count": 9,
   "metadata": {},
   "outputs": [
    {
     "name": "stdout",
     "output_type": "stream",
     "text": [
      "{'sort': 'newest', 'api-key': '23024af0531e446c99d96a8dcfb5cf09', 'end_date': 20160101, 'begin_date': 20050101, 'fq': '(body:\"GM\") AND (body:\"electric car\" OR body:\"electric cars\" OR body:\"electric vehicle\" OR body:\"electric vehicles\")'}\n",
      "number of hits:  38\n",
      "number of pages:  4\n",
      "collecting page 0\n",
      "collecting page 1\n",
      "collecting page 2\n",
      "collecting page 3\n"
     ]
    }
   ],
   "source": [
    "data_gm_ev = grab_data(\"gm\", gm_query, 20050101, 20160101)"
   ]
  },
  {
   "cell_type": "code",
   "execution_count": 63,
   "metadata": {},
   "outputs": [
    {
     "name": "stdout",
     "output_type": "stream",
     "text": [
      "{'fq': '(body:\"Tesla\") AND (body:\"electric car\" OR body:\"electric cars\" OR body:\"electric vehicle\" OR body:\"electric vehicles\")', 'api-key': '23024af0531e446c99d96a8dcfb5cf09', 'begin_date': 20050101, 'end_date': 20160101, 'sort': 'newest'}\n",
      "number of hits:  739\n",
      "number of pages:  74\n",
      "collecting page 0\n",
      "collecting page 1\n",
      "collecting page 2\n",
      "collecting page 3\n",
      "collecting page 4\n",
      "collecting page 5\n",
      "collecting page 6\n",
      "collecting page 7\n",
      "collecting page 8\n",
      "collecting page 9\n",
      "collecting page 10\n",
      "collecting page 11\n",
      "collecting page 12\n",
      "collecting page 13\n",
      "collecting page 14\n",
      "collecting page 15\n",
      "collecting page 16\n",
      "collecting page 17\n",
      "collecting page 18\n",
      "collecting page 19\n",
      "collecting page 20\n",
      "collecting page 21\n",
      "collecting page 22\n",
      "collecting page 23\n",
      "collecting page 24\n",
      "collecting page 25\n",
      "collecting page 26\n",
      "collecting page 27\n",
      "collecting page 28\n",
      "collecting page 29\n",
      "collecting page 30\n",
      "collecting page 31\n",
      "collecting page 32\n",
      "collecting page 33\n",
      "collecting page 34\n",
      "collecting page 35\n",
      "collecting page 36\n",
      "collecting page 37\n",
      "collecting page 38\n",
      "collecting page 39\n",
      "collecting page 40\n",
      "collecting page 41\n",
      "collecting page 42\n",
      "collecting page 43\n",
      "collecting page 44\n",
      "collecting page 45\n",
      "collecting page 46\n",
      "collecting page 47\n",
      "collecting page 48\n",
      "collecting page 49\n",
      "collecting page 50\n",
      "collecting page 51\n",
      "collecting page 52\n",
      "collecting page 53\n",
      "collecting page 54\n",
      "collecting page 55\n",
      "collecting page 56\n",
      "collecting page 57\n",
      "collecting page 58\n",
      "collecting page 59\n",
      "collecting page 60\n",
      "collecting page 61\n",
      "collecting page 62\n",
      "collecting page 63\n",
      "collecting page 64\n",
      "collecting page 65\n",
      "collecting page 66\n",
      "collecting page 67\n",
      "collecting page 68\n",
      "collecting page 69\n",
      "collecting page 70\n",
      "collecting page 71\n",
      "collecting page 72\n",
      "collecting page 73\n"
     ]
    }
   ],
   "source": [
    "data_tesla_ev = grab_data(\"tesla\", tesla_query, 20050101, 20160101)"
   ]
  },
  {
   "cell_type": "markdown",
   "metadata": {},
   "source": [
    "### we have generated two files on disk with the output of the NYTimes search, let's load them here"
   ]
  },
  {
   "cell_type": "markdown",
   "metadata": {},
   "source": [
    "##### file is in JSON format #####"
   ]
  },
  {
   "cell_type": "code",
   "execution_count": 21,
   "metadata": {},
   "outputs": [
    {
     "name": "stdout",
     "output_type": "stream",
     "text": [
      "[{\"status\": \"OK\", \"response\": {\"docs\": [{\"headline\n"
     ]
    }
   ],
   "source": [
    "with open(\"../data/nyt_gm_ev.txt\", 'r') as file:\n",
    "    data = file.read()\n",
    "print (data[:50]) # print first 50 characters of file"
   ]
  },
  {
   "cell_type": "code",
   "execution_count": 11,
   "metadata": {},
   "outputs": [],
   "source": [
    "with open(\"../data/nyt_gm_ev.txt\", 'r') as file:\n",
    "    data_gm_ev = json.load(file)"
   ]
  },
  {
   "cell_type": "code",
   "execution_count": 27,
   "metadata": {},
   "outputs": [],
   "source": [
    "with open(\"../data/nyt_tesla_ev.txt\", 'r') as file:\n",
    "    data_tesla_ev = json.load(file)"
   ]
  },
  {
   "cell_type": "markdown",
   "metadata": {},
   "source": [
    "##### each json file is a list of pages, each which contains article objects #####"
   ]
  },
  {
   "cell_type": "code",
   "execution_count": 25,
   "metadata": {},
   "outputs": [
    {
     "name": "stdout",
     "output_type": "stream",
     "text": [
      "4\n"
     ]
    }
   ],
   "source": [
    "print (len(data_gm_ev))"
   ]
  },
  {
   "cell_type": "code",
   "execution_count": 28,
   "metadata": {},
   "outputs": [
    {
     "name": "stdout",
     "output_type": "stream",
     "text": [
      "74\n"
     ]
    }
   ],
   "source": [
    "print (len(data_tesla_ev))"
   ]
  },
  {
   "cell_type": "markdown",
   "metadata": {},
   "source": [
    "### turn these JSON data into Dataframes"
   ]
  },
  {
   "cell_type": "code",
   "execution_count": 74,
   "metadata": {},
   "outputs": [],
   "source": [
    "df_gm = gen_df(data_gm_ev)"
   ]
  },
  {
   "cell_type": "code",
   "execution_count": 75,
   "metadata": {},
   "outputs": [
    {
     "data": {
      "text/html": [
       "<div>\n",
       "<style scoped>\n",
       "    .dataframe tbody tr th:only-of-type {\n",
       "        vertical-align: middle;\n",
       "    }\n",
       "\n",
       "    .dataframe tbody tr th {\n",
       "        vertical-align: top;\n",
       "    }\n",
       "\n",
       "    .dataframe thead th {\n",
       "        text-align: right;\n",
       "    }\n",
       "</style>\n",
       "<table border=\"1\" class=\"dataframe\">\n",
       "  <thead>\n",
       "    <tr style=\"text-align: right;\">\n",
       "      <th></th>\n",
       "      <th>_id</th>\n",
       "      <th>abstract</th>\n",
       "      <th>blog</th>\n",
       "      <th>byline</th>\n",
       "      <th>document_type</th>\n",
       "      <th>headline</th>\n",
       "      <th>keywords</th>\n",
       "      <th>multimedia</th>\n",
       "      <th>new_desk</th>\n",
       "      <th>print_page</th>\n",
       "      <th>pub_date</th>\n",
       "      <th>score</th>\n",
       "      <th>section_name</th>\n",
       "      <th>snippet</th>\n",
       "      <th>source</th>\n",
       "      <th>type_of_material</th>\n",
       "      <th>uri</th>\n",
       "      <th>web_url</th>\n",
       "      <th>word_count</th>\n",
       "    </tr>\n",
       "  </thead>\n",
       "  <tbody>\n",
       "    <tr>\n",
       "      <th>0</th>\n",
       "      <td>56029dee38f0d82db05b97be</td>\n",
       "      <td>Automobile industry had well-established reput...</td>\n",
       "      <td>{}</td>\n",
       "      <td>{'person': [{'role': 'reported', 'qualifier': ...</td>\n",
       "      <td>article</td>\n",
       "      <td>{'content_kicker': None, 'sub': None, 'kicker'...</td>\n",
       "      <td>[{'name': 'organizations', 'value': 'Volkswage...</td>\n",
       "      <td>[{'rank': 0, 'caption': None, 'subtype': 'wide...</td>\n",
       "      <td>Business</td>\n",
       "      <td>1</td>\n",
       "      <td>2015-09-24T00:00:00Z</td>\n",
       "      <td>1.0</td>\n",
       "      <td>International Business</td>\n",
       "      <td>Ever since governments began regulating cars, ...</td>\n",
       "      <td>The New York Times</td>\n",
       "      <td>News</td>\n",
       "      <td>NaN</td>\n",
       "      <td>https://www.nytimes.com/2015/09/24/business/in...</td>\n",
       "      <td>1313</td>\n",
       "    </tr>\n",
       "    <tr>\n",
       "      <th>1</th>\n",
       "      <td>54a4296638f0d80267d2ab3e</td>\n",
       "      <td>NaN</td>\n",
       "      <td>{}</td>\n",
       "      <td>{'person': [{'role': 'reported', 'qualifier': ...</td>\n",
       "      <td>multimedia</td>\n",
       "      <td>{'content_kicker': None, 'sub': None, 'kicker'...</td>\n",
       "      <td>[]</td>\n",
       "      <td>[{'rank': 0, 'caption': None, 'subtype': 'wide...</td>\n",
       "      <td>Movies</td>\n",
       "      <td>NaN</td>\n",
       "      <td>2014-12-31T11:50:43Z</td>\n",
       "      <td>1.0</td>\n",
       "      <td>NaN</td>\n",
       "      <td>In Revenge of the Electric Car, director Chris...</td>\n",
       "      <td>Internet Video Archive</td>\n",
       "      <td>Video</td>\n",
       "      <td>NaN</td>\n",
       "      <td>https://www.nytimes.com/video/movies/100000003...</td>\n",
       "      <td>42</td>\n",
       "    </tr>\n",
       "    <tr>\n",
       "      <th>2</th>\n",
       "      <td>537fb33838f0d876e12aa07a</td>\n",
       "      <td>NaN</td>\n",
       "      <td>{}</td>\n",
       "      <td>{'person': [{'role': 'reported', 'qualifier': ...</td>\n",
       "      <td>article</td>\n",
       "      <td>{'content_kicker': None, 'sub': None, 'kicker'...</td>\n",
       "      <td>[{'name': 'organizations', 'value': 'Toyota Mo...</td>\n",
       "      <td>[{'rank': 0, 'caption': None, 'subtype': 'wide...</td>\n",
       "      <td>Business</td>\n",
       "      <td></td>\n",
       "      <td>2014-05-24T00:00:00Z</td>\n",
       "      <td>1.0</td>\n",
       "      <td>NaN</td>\n",
       "      <td>General Motors to offer stop-start technology ...</td>\n",
       "      <td>The New York Times</td>\n",
       "      <td>News</td>\n",
       "      <td>NaN</td>\n",
       "      <td>https://www.nytimes.com/2014/05/24/automobiles...</td>\n",
       "      <td>564</td>\n",
       "    </tr>\n",
       "    <tr>\n",
       "      <th>3</th>\n",
       "      <td>5270380238f0d83b1c139772</td>\n",
       "      <td>Abundance and economy of natural gas in United...</td>\n",
       "      <td>{}</td>\n",
       "      <td>{'person': [{'role': 'reported', 'qualifier': ...</td>\n",
       "      <td>article</td>\n",
       "      <td>{'content_kicker': None, 'sub': None, 'kicker'...</td>\n",
       "      <td>[{'name': 'subject', 'value': 'Automobiles', '...</td>\n",
       "      <td>[{'rank': 0, 'caption': None, 'subtype': 'wide...</td>\n",
       "      <td>Business</td>\n",
       "      <td>2</td>\n",
       "      <td>2013-10-30T00:00:00Z</td>\n",
       "      <td>1.0</td>\n",
       "      <td>NaN</td>\n",
       "      <td>With natural gas plentiful and cheap in the Un...</td>\n",
       "      <td>The New York Times</td>\n",
       "      <td>News</td>\n",
       "      <td>NaN</td>\n",
       "      <td>https://www.nytimes.com/2013/10/30/automobiles...</td>\n",
       "      <td>1104</td>\n",
       "    </tr>\n",
       "    <tr>\n",
       "      <th>4</th>\n",
       "      <td>50a3fcd100315214fbb7a704</td>\n",
       "      <td>A prototype tests the potential for providing ...</td>\n",
       "      <td>{}</td>\n",
       "      <td>{'person': [{'role': 'reported', 'qualifier': ...</td>\n",
       "      <td>blogpost</td>\n",
       "      <td>{'content_kicker': None, 'sub': None, 'kicker'...</td>\n",
       "      <td>[{'name': 'glocations', 'value': 'San Francisc...</td>\n",
       "      <td>[]</td>\n",
       "      <td>NaN</td>\n",
       "      <td>NaN</td>\n",
       "      <td>2012-11-14T15:12:14Z</td>\n",
       "      <td>1.0</td>\n",
       "      <td>Environment</td>\n",
       "      <td>A prototype tests the potential for providing ...</td>\n",
       "      <td>The New York Times</td>\n",
       "      <td>Blog</td>\n",
       "      <td>NaN</td>\n",
       "      <td>https://green.blogs.nytimes.com/2012/11/14/an-...</td>\n",
       "      <td>496</td>\n",
       "    </tr>\n",
       "  </tbody>\n",
       "</table>\n",
       "</div>"
      ],
      "text/plain": [
       "                        _id  \\\n",
       "0  56029dee38f0d82db05b97be   \n",
       "1  54a4296638f0d80267d2ab3e   \n",
       "2  537fb33838f0d876e12aa07a   \n",
       "3  5270380238f0d83b1c139772   \n",
       "4  50a3fcd100315214fbb7a704   \n",
       "\n",
       "                                            abstract blog  \\\n",
       "0  Automobile industry had well-established reput...   {}   \n",
       "1                                                NaN   {}   \n",
       "2                                                NaN   {}   \n",
       "3  Abundance and economy of natural gas in United...   {}   \n",
       "4  A prototype tests the potential for providing ...   {}   \n",
       "\n",
       "                                              byline document_type  \\\n",
       "0  {'person': [{'role': 'reported', 'qualifier': ...       article   \n",
       "1  {'person': [{'role': 'reported', 'qualifier': ...    multimedia   \n",
       "2  {'person': [{'role': 'reported', 'qualifier': ...       article   \n",
       "3  {'person': [{'role': 'reported', 'qualifier': ...       article   \n",
       "4  {'person': [{'role': 'reported', 'qualifier': ...      blogpost   \n",
       "\n",
       "                                            headline  \\\n",
       "0  {'content_kicker': None, 'sub': None, 'kicker'...   \n",
       "1  {'content_kicker': None, 'sub': None, 'kicker'...   \n",
       "2  {'content_kicker': None, 'sub': None, 'kicker'...   \n",
       "3  {'content_kicker': None, 'sub': None, 'kicker'...   \n",
       "4  {'content_kicker': None, 'sub': None, 'kicker'...   \n",
       "\n",
       "                                            keywords  \\\n",
       "0  [{'name': 'organizations', 'value': 'Volkswage...   \n",
       "1                                                 []   \n",
       "2  [{'name': 'organizations', 'value': 'Toyota Mo...   \n",
       "3  [{'name': 'subject', 'value': 'Automobiles', '...   \n",
       "4  [{'name': 'glocations', 'value': 'San Francisc...   \n",
       "\n",
       "                                          multimedia  new_desk print_page  \\\n",
       "0  [{'rank': 0, 'caption': None, 'subtype': 'wide...  Business          1   \n",
       "1  [{'rank': 0, 'caption': None, 'subtype': 'wide...    Movies        NaN   \n",
       "2  [{'rank': 0, 'caption': None, 'subtype': 'wide...  Business              \n",
       "3  [{'rank': 0, 'caption': None, 'subtype': 'wide...  Business          2   \n",
       "4                                                 []       NaN        NaN   \n",
       "\n",
       "               pub_date  score            section_name  \\\n",
       "0  2015-09-24T00:00:00Z    1.0  International Business   \n",
       "1  2014-12-31T11:50:43Z    1.0                     NaN   \n",
       "2  2014-05-24T00:00:00Z    1.0                     NaN   \n",
       "3  2013-10-30T00:00:00Z    1.0                     NaN   \n",
       "4  2012-11-14T15:12:14Z    1.0             Environment   \n",
       "\n",
       "                                             snippet                  source  \\\n",
       "0  Ever since governments began regulating cars, ...      The New York Times   \n",
       "1  In Revenge of the Electric Car, director Chris...  Internet Video Archive   \n",
       "2  General Motors to offer stop-start technology ...      The New York Times   \n",
       "3  With natural gas plentiful and cheap in the Un...      The New York Times   \n",
       "4  A prototype tests the potential for providing ...      The New York Times   \n",
       "\n",
       "  type_of_material  uri                                            web_url  \\\n",
       "0             News  NaN  https://www.nytimes.com/2015/09/24/business/in...   \n",
       "1            Video  NaN  https://www.nytimes.com/video/movies/100000003...   \n",
       "2             News  NaN  https://www.nytimes.com/2014/05/24/automobiles...   \n",
       "3             News  NaN  https://www.nytimes.com/2013/10/30/automobiles...   \n",
       "4             Blog  NaN  https://green.blogs.nytimes.com/2012/11/14/an-...   \n",
       "\n",
       "   word_count  \n",
       "0        1313  \n",
       "1          42  \n",
       "2         564  \n",
       "3        1104  \n",
       "4         496  "
      ]
     },
     "execution_count": 75,
     "metadata": {},
     "output_type": "execute_result"
    }
   ],
   "source": [
    "df_gm.head()"
   ]
  },
  {
   "cell_type": "code",
   "execution_count": 76,
   "metadata": {},
   "outputs": [],
   "source": [
    "df_tesla = gen_df(data_tesla_ev)"
   ]
  },
  {
   "cell_type": "code",
   "execution_count": 77,
   "metadata": {},
   "outputs": [
    {
     "data": {
      "text/html": [
       "<div>\n",
       "<style scoped>\n",
       "    .dataframe tbody tr th:only-of-type {\n",
       "        vertical-align: middle;\n",
       "    }\n",
       "\n",
       "    .dataframe tbody tr th {\n",
       "        vertical-align: top;\n",
       "    }\n",
       "\n",
       "    .dataframe thead th {\n",
       "        text-align: right;\n",
       "    }\n",
       "</style>\n",
       "<table border=\"1\" class=\"dataframe\">\n",
       "  <thead>\n",
       "    <tr style=\"text-align: right;\">\n",
       "      <th></th>\n",
       "      <th>_id</th>\n",
       "      <th>abstract</th>\n",
       "      <th>blog</th>\n",
       "      <th>byline</th>\n",
       "      <th>document_type</th>\n",
       "      <th>headline</th>\n",
       "      <th>keywords</th>\n",
       "      <th>multimedia</th>\n",
       "      <th>new_desk</th>\n",
       "      <th>print_page</th>\n",
       "      <th>pub_date</th>\n",
       "      <th>score</th>\n",
       "      <th>section_name</th>\n",
       "      <th>snippet</th>\n",
       "      <th>source</th>\n",
       "      <th>type_of_material</th>\n",
       "      <th>uri</th>\n",
       "      <th>web_url</th>\n",
       "      <th>word_count</th>\n",
       "    </tr>\n",
       "  </thead>\n",
       "  <tbody>\n",
       "    <tr>\n",
       "      <th>0</th>\n",
       "      <td>5674802b38f0d805d002ead6</td>\n",
       "      <td>Prince Albert II of Monaco is continuing famil...</td>\n",
       "      <td>{}</td>\n",
       "      <td>{'person': [{'role': 'reported', 'qualifier': ...</td>\n",
       "      <td>article</td>\n",
       "      <td>{'content_kicker': None, 'sub': None, 'kicker'...</td>\n",
       "      <td>[{'name': 'persons', 'value': 'Albert II, Prin...</td>\n",
       "      <td>[{'rank': 0, 'caption': None, 'subtype': 'wide...</td>\n",
       "      <td>Styles</td>\n",
       "      <td>21</td>\n",
       "      <td>2015-12-20T00:00:00Z</td>\n",
       "      <td>1.0</td>\n",
       "      <td>NaN</td>\n",
       "      <td>The son of Grace Kelly and Rainier III flies d...</td>\n",
       "      <td>The New York Times</td>\n",
       "      <td>News</td>\n",
       "      <td>NaN</td>\n",
       "      <td>https://www.nytimes.com/2015/12/20/fashion/pri...</td>\n",
       "      <td>1362</td>\n",
       "    </tr>\n",
       "    <tr>\n",
       "      <th>1</th>\n",
       "      <td>5671e55a38f0d82eed76c3ef</td>\n",
       "      <td>California's Dept of Motor Vehicles unveils re...</td>\n",
       "      <td>{}</td>\n",
       "      <td>{'person': [{'role': 'reported', 'qualifier': ...</td>\n",
       "      <td>article</td>\n",
       "      <td>{'content_kicker': None, 'sub': None, 'kicker'...</td>\n",
       "      <td>[{'name': 'subject', 'value': 'Driverless and ...</td>\n",
       "      <td>[{'rank': 0, 'caption': None, 'subtype': 'wide...</td>\n",
       "      <td>Business</td>\n",
       "      <td>3</td>\n",
       "      <td>2015-12-17T00:00:00Z</td>\n",
       "      <td>1.0</td>\n",
       "      <td>NaN</td>\n",
       "      <td>Draft regulations would require licensed drive...</td>\n",
       "      <td>The New York Times</td>\n",
       "      <td>News</td>\n",
       "      <td>NaN</td>\n",
       "      <td>https://www.nytimes.com/2015/12/17/technology/...</td>\n",
       "      <td>683</td>\n",
       "    </tr>\n",
       "    <tr>\n",
       "      <th>2</th>\n",
       "      <td>566a1dbc38f0d857ec8b0987</td>\n",
       "      <td>NaN</td>\n",
       "      <td>{}</td>\n",
       "      <td>{'person': [{'role': 'reported', 'qualifier': ...</td>\n",
       "      <td>article</td>\n",
       "      <td>{'content_kicker': None, 'sub': None, 'kicker'...</td>\n",
       "      <td>[{'name': 'subject', 'value': 'Electric and Hy...</td>\n",
       "      <td>[{'rank': 0, 'caption': None, 'subtype': 'wide...</td>\n",
       "      <td>Business</td>\n",
       "      <td>NaN</td>\n",
       "      <td>2015-12-11T00:00:00Z</td>\n",
       "      <td>1.0</td>\n",
       "      <td>NaN</td>\n",
       "      <td>The company, which is backed by a Chinese entr...</td>\n",
       "      <td>The New York Times</td>\n",
       "      <td>News</td>\n",
       "      <td>NaN</td>\n",
       "      <td>https://www.nytimes.com/2015/12/11/automobiles...</td>\n",
       "      <td>434</td>\n",
       "    </tr>\n",
       "    <tr>\n",
       "      <th>3</th>\n",
       "      <td>5668130738f0d8780c27824f</td>\n",
       "      <td>NaN</td>\n",
       "      <td>{}</td>\n",
       "      <td>{'person': [{'role': 'reported', 'qualifier': ...</td>\n",
       "      <td>article</td>\n",
       "      <td>{'content_kicker': 'Sinosphere', 'sub': None, ...</td>\n",
       "      <td>[{'name': 'subject', 'value': 'Air Pollution',...</td>\n",
       "      <td>[{'rank': 0, 'caption': None, 'subtype': 'xlar...</td>\n",
       "      <td>Foreign</td>\n",
       "      <td>NaN</td>\n",
       "      <td>2015-12-09T11:39:47+0000</td>\n",
       "      <td>1.0</td>\n",
       "      <td>Asia Pacific</td>\n",
       "      <td>Asked to comment on pollution and climate chan...</td>\n",
       "      <td>The New York Times</td>\n",
       "      <td>News</td>\n",
       "      <td>nyt://article/a5a90e6b-bc25-570a-baa0-0139a7e1...</td>\n",
       "      <td>https://www.nytimes.com/2015/12/10/world/asia/...</td>\n",
       "      <td>833</td>\n",
       "    </tr>\n",
       "    <tr>\n",
       "      <th>4</th>\n",
       "      <td>5666bf9238f0d84cb15f72f3</td>\n",
       "      <td>NaN</td>\n",
       "      <td>{}</td>\n",
       "      <td>{'person': [{'role': 'reported', 'qualifier': ...</td>\n",
       "      <td>article</td>\n",
       "      <td>{'content_kicker': 'Special Report: Energy for...</td>\n",
       "      <td>[{'name': 'subject', 'value': 'Diesel Power', ...</td>\n",
       "      <td>[{'rank': 0, 'caption': None, 'subtype': 'wide...</td>\n",
       "      <td>Business</td>\n",
       "      <td>NaN</td>\n",
       "      <td>2015-12-09T11:30:00Z</td>\n",
       "      <td>1.0</td>\n",
       "      <td>Energy &amp; Environment</td>\n",
       "      <td>Even before the Volkswagen scandal, diesel had...</td>\n",
       "      <td>The New York Times</td>\n",
       "      <td>Special Report</td>\n",
       "      <td>NaN</td>\n",
       "      <td>https://www.nytimes.com/2015/12/09/business/en...</td>\n",
       "      <td>926</td>\n",
       "    </tr>\n",
       "  </tbody>\n",
       "</table>\n",
       "</div>"
      ],
      "text/plain": [
       "                        _id  \\\n",
       "0  5674802b38f0d805d002ead6   \n",
       "1  5671e55a38f0d82eed76c3ef   \n",
       "2  566a1dbc38f0d857ec8b0987   \n",
       "3  5668130738f0d8780c27824f   \n",
       "4  5666bf9238f0d84cb15f72f3   \n",
       "\n",
       "                                            abstract blog  \\\n",
       "0  Prince Albert II of Monaco is continuing famil...   {}   \n",
       "1  California's Dept of Motor Vehicles unveils re...   {}   \n",
       "2                                                NaN   {}   \n",
       "3                                                NaN   {}   \n",
       "4                                                NaN   {}   \n",
       "\n",
       "                                              byline document_type  \\\n",
       "0  {'person': [{'role': 'reported', 'qualifier': ...       article   \n",
       "1  {'person': [{'role': 'reported', 'qualifier': ...       article   \n",
       "2  {'person': [{'role': 'reported', 'qualifier': ...       article   \n",
       "3  {'person': [{'role': 'reported', 'qualifier': ...       article   \n",
       "4  {'person': [{'role': 'reported', 'qualifier': ...       article   \n",
       "\n",
       "                                            headline  \\\n",
       "0  {'content_kicker': None, 'sub': None, 'kicker'...   \n",
       "1  {'content_kicker': None, 'sub': None, 'kicker'...   \n",
       "2  {'content_kicker': None, 'sub': None, 'kicker'...   \n",
       "3  {'content_kicker': 'Sinosphere', 'sub': None, ...   \n",
       "4  {'content_kicker': 'Special Report: Energy for...   \n",
       "\n",
       "                                            keywords  \\\n",
       "0  [{'name': 'persons', 'value': 'Albert II, Prin...   \n",
       "1  [{'name': 'subject', 'value': 'Driverless and ...   \n",
       "2  [{'name': 'subject', 'value': 'Electric and Hy...   \n",
       "3  [{'name': 'subject', 'value': 'Air Pollution',...   \n",
       "4  [{'name': 'subject', 'value': 'Diesel Power', ...   \n",
       "\n",
       "                                          multimedia  new_desk print_page  \\\n",
       "0  [{'rank': 0, 'caption': None, 'subtype': 'wide...    Styles         21   \n",
       "1  [{'rank': 0, 'caption': None, 'subtype': 'wide...  Business          3   \n",
       "2  [{'rank': 0, 'caption': None, 'subtype': 'wide...  Business        NaN   \n",
       "3  [{'rank': 0, 'caption': None, 'subtype': 'xlar...   Foreign        NaN   \n",
       "4  [{'rank': 0, 'caption': None, 'subtype': 'wide...  Business        NaN   \n",
       "\n",
       "                   pub_date  score           section_name  \\\n",
       "0      2015-12-20T00:00:00Z    1.0                    NaN   \n",
       "1      2015-12-17T00:00:00Z    1.0                    NaN   \n",
       "2      2015-12-11T00:00:00Z    1.0                    NaN   \n",
       "3  2015-12-09T11:39:47+0000    1.0           Asia Pacific   \n",
       "4      2015-12-09T11:30:00Z    1.0  Energy & Environment    \n",
       "\n",
       "                                             snippet              source  \\\n",
       "0  The son of Grace Kelly and Rainier III flies d...  The New York Times   \n",
       "1  Draft regulations would require licensed drive...  The New York Times   \n",
       "2  The company, which is backed by a Chinese entr...  The New York Times   \n",
       "3  Asked to comment on pollution and climate chan...  The New York Times   \n",
       "4  Even before the Volkswagen scandal, diesel had...  The New York Times   \n",
       "\n",
       "  type_of_material                                                uri  \\\n",
       "0             News                                                NaN   \n",
       "1             News                                                NaN   \n",
       "2             News                                                NaN   \n",
       "3             News  nyt://article/a5a90e6b-bc25-570a-baa0-0139a7e1...   \n",
       "4   Special Report                                                NaN   \n",
       "\n",
       "                                             web_url  word_count  \n",
       "0  https://www.nytimes.com/2015/12/20/fashion/pri...        1362  \n",
       "1  https://www.nytimes.com/2015/12/17/technology/...         683  \n",
       "2  https://www.nytimes.com/2015/12/11/automobiles...         434  \n",
       "3  https://www.nytimes.com/2015/12/10/world/asia/...         833  \n",
       "4  https://www.nytimes.com/2015/12/09/business/en...         926  "
      ]
     },
     "execution_count": 77,
     "metadata": {},
     "output_type": "execute_result"
    }
   ],
   "source": [
    "df_tesla.head()"
   ]
  },
  {
   "cell_type": "markdown",
   "metadata": {},
   "source": [
    "### Clean the data, group them by year (see clean_data method for more details)"
   ]
  },
  {
   "cell_type": "code",
   "execution_count": 78,
   "metadata": {},
   "outputs": [],
   "source": [
    "grouped_gm = clean_data(df_gm)"
   ]
  },
  {
   "cell_type": "code",
   "execution_count": 79,
   "metadata": {},
   "outputs": [],
   "source": [
    "grouped_tesla = clean_data(df_tesla)"
   ]
  },
  {
   "cell_type": "markdown",
   "metadata": {},
   "source": [
    "### Inspect the grouped data"
   ]
  },
  {
   "cell_type": "code",
   "execution_count": 80,
   "metadata": {},
   "outputs": [
    {
     "data": {
      "text/html": [
       "<div>\n",
       "<style scoped>\n",
       "    .dataframe tbody tr th:only-of-type {\n",
       "        vertical-align: middle;\n",
       "    }\n",
       "\n",
       "    .dataframe tbody tr th {\n",
       "        vertical-align: top;\n",
       "    }\n",
       "\n",
       "    .dataframe thead th {\n",
       "        text-align: right;\n",
       "    }\n",
       "</style>\n",
       "<table border=\"1\" class=\"dataframe\">\n",
       "  <thead>\n",
       "    <tr style=\"text-align: right;\">\n",
       "      <th></th>\n",
       "      <th>count</th>\n",
       "      <th>polarity</th>\n",
       "    </tr>\n",
       "    <tr>\n",
       "      <th>year</th>\n",
       "      <th></th>\n",
       "      <th></th>\n",
       "    </tr>\n",
       "  </thead>\n",
       "  <tbody>\n",
       "    <tr>\n",
       "      <th>2005</th>\n",
       "      <td>1</td>\n",
       "      <td>0.154167</td>\n",
       "    </tr>\n",
       "    <tr>\n",
       "      <th>2006</th>\n",
       "      <td>1</td>\n",
       "      <td>0.000000</td>\n",
       "    </tr>\n",
       "    <tr>\n",
       "      <th>2007</th>\n",
       "      <td>4</td>\n",
       "      <td>0.186326</td>\n",
       "    </tr>\n",
       "    <tr>\n",
       "      <th>2008</th>\n",
       "      <td>5</td>\n",
       "      <td>0.023333</td>\n",
       "    </tr>\n",
       "    <tr>\n",
       "      <th>2009</th>\n",
       "      <td>9</td>\n",
       "      <td>0.061574</td>\n",
       "    </tr>\n",
       "  </tbody>\n",
       "</table>\n",
       "</div>"
      ],
      "text/plain": [
       "      count  polarity\n",
       "year                 \n",
       "2005      1  0.154167\n",
       "2006      1  0.000000\n",
       "2007      4  0.186326\n",
       "2008      5  0.023333\n",
       "2009      9  0.061574"
      ]
     },
     "execution_count": 80,
     "metadata": {},
     "output_type": "execute_result"
    }
   ],
   "source": [
    "grouped_gm.head()"
   ]
  },
  {
   "cell_type": "code",
   "execution_count": 81,
   "metadata": {},
   "outputs": [
    {
     "data": {
      "text/html": [
       "<div>\n",
       "<style scoped>\n",
       "    .dataframe tbody tr th:only-of-type {\n",
       "        vertical-align: middle;\n",
       "    }\n",
       "\n",
       "    .dataframe tbody tr th {\n",
       "        vertical-align: top;\n",
       "    }\n",
       "\n",
       "    .dataframe thead th {\n",
       "        text-align: right;\n",
       "    }\n",
       "</style>\n",
       "<table border=\"1\" class=\"dataframe\">\n",
       "  <thead>\n",
       "    <tr style=\"text-align: right;\">\n",
       "      <th></th>\n",
       "      <th>count</th>\n",
       "      <th>polarity</th>\n",
       "    </tr>\n",
       "    <tr>\n",
       "      <th>year</th>\n",
       "      <th></th>\n",
       "      <th></th>\n",
       "    </tr>\n",
       "  </thead>\n",
       "  <tbody>\n",
       "    <tr>\n",
       "      <th>2006</th>\n",
       "      <td>6</td>\n",
       "      <td>0.095694</td>\n",
       "    </tr>\n",
       "    <tr>\n",
       "      <th>2007</th>\n",
       "      <td>28</td>\n",
       "      <td>0.093172</td>\n",
       "    </tr>\n",
       "    <tr>\n",
       "      <th>2008</th>\n",
       "      <td>57</td>\n",
       "      <td>0.076862</td>\n",
       "    </tr>\n",
       "    <tr>\n",
       "      <th>2009</th>\n",
       "      <td>78</td>\n",
       "      <td>0.101455</td>\n",
       "    </tr>\n",
       "    <tr>\n",
       "      <th>2010</th>\n",
       "      <td>157</td>\n",
       "      <td>0.086953</td>\n",
       "    </tr>\n",
       "  </tbody>\n",
       "</table>\n",
       "</div>"
      ],
      "text/plain": [
       "      count  polarity\n",
       "year                 \n",
       "2006      6  0.095694\n",
       "2007     28  0.093172\n",
       "2008     57  0.076862\n",
       "2009     78  0.101455\n",
       "2010    157  0.086953"
      ]
     },
     "execution_count": 81,
     "metadata": {},
     "output_type": "execute_result"
    }
   ],
   "source": [
    "grouped_tesla.head()"
   ]
  },
  {
   "cell_type": "markdown",
   "metadata": {},
   "source": [
    "### Plot the count column in our dataframe"
   ]
  },
  {
   "cell_type": "code",
   "execution_count": 82,
   "metadata": {},
   "outputs": [
    {
     "data": {
      "text/plain": [
       "<matplotlib.axes._subplots.AxesSubplot at 0x10adad1d0>"
      ]
     },
     "execution_count": 82,
     "metadata": {},
     "output_type": "execute_result"
    },
    {
     "data": {
      "image/png": "[encoded data removed]",
      "text/plain": [
       "<Figure size 432x288 with 1 Axes>"
      ]
     },
     "metadata": {},
     "output_type": "display_data"
    }
   ],
   "source": [
    "grouped_gm['polarity'].plot(kind='line', color='b')"
   ]
  },
  {
   "cell_type": "code",
   "execution_count": 84,
   "metadata": {},
   "outputs": [
    {
     "data": {
      "text/plain": [
       "<matplotlib.axes._subplots.AxesSubplot at 0x10ad87a58>"
      ]
     },
     "execution_count": 84,
     "metadata": {},
     "output_type": "execute_result"
    },
    {
     "data": {
      "image/png": "[encoded data removed]",
      "text/plain": [
       "<Figure size 432x288 with 1 Axes>"
      ]
     },
     "metadata": {},
     "output_type": "display_data"
    }
   ],
   "source": [
    "grouped_tesla['count'].plot(kind='line', color='r')"
   ]
  },
  {
   "cell_type": "markdown",
   "metadata": {},
   "source": [
    "### _to do: bring the xticks back in for year_ "
   ]
  },
  {
   "cell_type": "markdown",
   "metadata": {},
   "source": [
    "### Show both plots on the same graph"
   ]
  },
  {
   "cell_type": "code",
   "execution_count": 85,
   "metadata": {},
   "outputs": [],
   "source": [
    "combined_df = pandas.concat([grouped_gm, grouped_tesla], axis=1)"
   ]
  },
  {
   "cell_type": "code",
   "execution_count": 86,
   "metadata": {},
   "outputs": [],
   "source": [
    "# need to rename our columns and index (note: this could be avoided through better use of the concat function above)\n",
    "combined_df.columns=[\"GM_count\", \"GM_polarity\", \"Tesla_count\", \"Tesla_polarity\"]\n",
    "combined_df.index_name = \"year\""
   ]
  },
  {
   "cell_type": "code",
   "execution_count": 87,
   "metadata": {},
   "outputs": [],
   "source": [
    "combined_df = combined_df.fillna(0)"
   ]
  },
  {
   "cell_type": "code",
   "execution_count": 88,
   "metadata": {},
   "outputs": [
    {
     "data": {
      "text/html": [
       "<div>\n",
       "<style scoped>\n",
       "    .dataframe tbody tr th:only-of-type {\n",
       "        vertical-align: middle;\n",
       "    }\n",
       "\n",
       "    .dataframe tbody tr th {\n",
       "        vertical-align: top;\n",
       "    }\n",
       "\n",
       "    .dataframe thead th {\n",
       "        text-align: right;\n",
       "    }\n",
       "</style>\n",
       "<table border=\"1\" class=\"dataframe\">\n",
       "  <thead>\n",
       "    <tr style=\"text-align: right;\">\n",
       "      <th></th>\n",
       "      <th>GM_count</th>\n",
       "      <th>GM_polarity</th>\n",
       "      <th>Tesla_count</th>\n",
       "      <th>Tesla_polarity</th>\n",
       "    </tr>\n",
       "  </thead>\n",
       "  <tbody>\n",
       "    <tr>\n",
       "      <th>2005</th>\n",
       "      <td>1</td>\n",
       "      <td>0.154167</td>\n",
       "      <td>0.0</td>\n",
       "      <td>0.000000</td>\n",
       "    </tr>\n",
       "    <tr>\n",
       "      <th>2006</th>\n",
       "      <td>1</td>\n",
       "      <td>0.000000</td>\n",
       "      <td>6.0</td>\n",
       "      <td>0.095694</td>\n",
       "    </tr>\n",
       "    <tr>\n",
       "      <th>2007</th>\n",
       "      <td>4</td>\n",
       "      <td>0.186326</td>\n",
       "      <td>28.0</td>\n",
       "      <td>0.093172</td>\n",
       "    </tr>\n",
       "    <tr>\n",
       "      <th>2008</th>\n",
       "      <td>5</td>\n",
       "      <td>0.023333</td>\n",
       "      <td>57.0</td>\n",
       "      <td>0.076862</td>\n",
       "    </tr>\n",
       "    <tr>\n",
       "      <th>2009</th>\n",
       "      <td>9</td>\n",
       "      <td>0.061574</td>\n",
       "      <td>78.0</td>\n",
       "      <td>0.101455</td>\n",
       "    </tr>\n",
       "  </tbody>\n",
       "</table>\n",
       "</div>"
      ],
      "text/plain": [
       "      GM_count  GM_polarity  Tesla_count  Tesla_polarity\n",
       "2005         1     0.154167          0.0        0.000000\n",
       "2006         1     0.000000          6.0        0.095694\n",
       "2007         4     0.186326         28.0        0.093172\n",
       "2008         5     0.023333         57.0        0.076862\n",
       "2009         9     0.061574         78.0        0.101455"
      ]
     },
     "execution_count": 88,
     "metadata": {},
     "output_type": "execute_result"
    }
   ],
   "source": [
    "combined_df.head()"
   ]
  },
  {
   "cell_type": "markdown",
   "metadata": {},
   "source": [
    "### Plot the combined dataframe"
   ]
  },
  {
   "cell_type": "code",
   "execution_count": 89,
   "metadata": {},
   "outputs": [
    {
     "data": {
      "text/html": [
       "<div>\n",
       "<style scoped>\n",
       "    .dataframe tbody tr th:only-of-type {\n",
       "        vertical-align: middle;\n",
       "    }\n",
       "\n",
       "    .dataframe tbody tr th {\n",
       "        vertical-align: top;\n",
       "    }\n",
       "\n",
       "    .dataframe thead th {\n",
       "        text-align: right;\n",
       "    }\n",
       "</style>\n",
       "<table border=\"1\" class=\"dataframe\">\n",
       "  <thead>\n",
       "    <tr style=\"text-align: right;\">\n",
       "      <th></th>\n",
       "      <th>GM_count</th>\n",
       "      <th>Tesla_count</th>\n",
       "    </tr>\n",
       "  </thead>\n",
       "  <tbody>\n",
       "    <tr>\n",
       "      <th>2005</th>\n",
       "      <td>1</td>\n",
       "      <td>0.0</td>\n",
       "    </tr>\n",
       "    <tr>\n",
       "      <th>2006</th>\n",
       "      <td>1</td>\n",
       "      <td>6.0</td>\n",
       "    </tr>\n",
       "    <tr>\n",
       "      <th>2007</th>\n",
       "      <td>4</td>\n",
       "      <td>28.0</td>\n",
       "    </tr>\n",
       "    <tr>\n",
       "      <th>2008</th>\n",
       "      <td>5</td>\n",
       "      <td>57.0</td>\n",
       "    </tr>\n",
       "    <tr>\n",
       "      <th>2009</th>\n",
       "      <td>9</td>\n",
       "      <td>78.0</td>\n",
       "    </tr>\n",
       "    <tr>\n",
       "      <th>2010</th>\n",
       "      <td>10</td>\n",
       "      <td>157.0</td>\n",
       "    </tr>\n",
       "    <tr>\n",
       "      <th>2011</th>\n",
       "      <td>3</td>\n",
       "      <td>77.0</td>\n",
       "    </tr>\n",
       "    <tr>\n",
       "      <th>2012</th>\n",
       "      <td>1</td>\n",
       "      <td>72.0</td>\n",
       "    </tr>\n",
       "    <tr>\n",
       "      <th>2013</th>\n",
       "      <td>1</td>\n",
       "      <td>104.0</td>\n",
       "    </tr>\n",
       "    <tr>\n",
       "      <th>2014</th>\n",
       "      <td>2</td>\n",
       "      <td>84.0</td>\n",
       "    </tr>\n",
       "    <tr>\n",
       "      <th>2015</th>\n",
       "      <td>1</td>\n",
       "      <td>76.0</td>\n",
       "    </tr>\n",
       "  </tbody>\n",
       "</table>\n",
       "</div>"
      ],
      "text/plain": [
       "      GM_count  Tesla_count\n",
       "2005         1          0.0\n",
       "2006         1          6.0\n",
       "2007         4         28.0\n",
       "2008         5         57.0\n",
       "2009         9         78.0\n",
       "2010        10        157.0\n",
       "2011         3         77.0\n",
       "2012         1         72.0\n",
       "2013         1        104.0\n",
       "2014         2         84.0\n",
       "2015         1         76.0"
      ]
     },
     "execution_count": 89,
     "metadata": {},
     "output_type": "execute_result"
    }
   ],
   "source": [
    "combined_df[[\"GM_count\", \"Tesla_count\"]]"
   ]
  },
  {
   "cell_type": "code",
   "execution_count": 91,
   "metadata": {},
   "outputs": [
    {
     "data": {
      "text/plain": [
       "<matplotlib.axes._subplots.AxesSubplot at 0x10ad428d0>"
      ]
     },
     "execution_count": 91,
     "metadata": {},
     "output_type": "execute_result"
    },
    {
     "data": {
      "image/png": "[encoded data removed]",
      "text/plain": [
       "<Figure size 432x288 with 1 Axes>"
      ]
     },
     "metadata": {},
     "output_type": "display_data"
    }
   ],
   "source": [
    "combined_df[[\"GM_count\", \"Tesla_count\"]].plot()"
   ]
  },
  {
   "cell_type": "markdown",
   "metadata": {},
   "source": [
    "## 2010 was a big year for Tesla, and GM [Hovig to fill in what happened in 2010 from the case]"
   ]
  },
  {
   "cell_type": "code",
   "execution_count": 92,
   "metadata": {},
   "outputs": [
    {
     "data": {
      "text/html": [
       "<div>\n",
       "<style scoped>\n",
       "    .dataframe tbody tr th:only-of-type {\n",
       "        vertical-align: middle;\n",
       "    }\n",
       "\n",
       "    .dataframe tbody tr th {\n",
       "        vertical-align: top;\n",
       "    }\n",
       "\n",
       "    .dataframe thead th {\n",
       "        text-align: right;\n",
       "    }\n",
       "</style>\n",
       "<table border=\"1\" class=\"dataframe\">\n",
       "  <thead>\n",
       "    <tr style=\"text-align: right;\">\n",
       "      <th></th>\n",
       "      <th>GM_polarity</th>\n",
       "      <th>Tesla_polarity</th>\n",
       "    </tr>\n",
       "  </thead>\n",
       "  <tbody>\n",
       "    <tr>\n",
       "      <th>2005</th>\n",
       "      <td>0.154167</td>\n",
       "      <td>0.000000</td>\n",
       "    </tr>\n",
       "    <tr>\n",
       "      <th>2006</th>\n",
       "      <td>0.000000</td>\n",
       "      <td>0.095694</td>\n",
       "    </tr>\n",
       "    <tr>\n",
       "      <th>2007</th>\n",
       "      <td>0.186326</td>\n",
       "      <td>0.093172</td>\n",
       "    </tr>\n",
       "    <tr>\n",
       "      <th>2008</th>\n",
       "      <td>0.023333</td>\n",
       "      <td>0.076862</td>\n",
       "    </tr>\n",
       "    <tr>\n",
       "      <th>2009</th>\n",
       "      <td>0.061574</td>\n",
       "      <td>0.101455</td>\n",
       "    </tr>\n",
       "    <tr>\n",
       "      <th>2010</th>\n",
       "      <td>0.127652</td>\n",
       "      <td>0.086953</td>\n",
       "    </tr>\n",
       "    <tr>\n",
       "      <th>2011</th>\n",
       "      <td>0.016667</td>\n",
       "      <td>0.075263</td>\n",
       "    </tr>\n",
       "    <tr>\n",
       "      <th>2012</th>\n",
       "      <td>0.000000</td>\n",
       "      <td>0.108582</td>\n",
       "    </tr>\n",
       "    <tr>\n",
       "      <th>2013</th>\n",
       "      <td>0.233333</td>\n",
       "      <td>0.065855</td>\n",
       "    </tr>\n",
       "    <tr>\n",
       "      <th>2014</th>\n",
       "      <td>-0.062500</td>\n",
       "      <td>0.112158</td>\n",
       "    </tr>\n",
       "    <tr>\n",
       "      <th>2015</th>\n",
       "      <td>0.000000</td>\n",
       "      <td>0.069585</td>\n",
       "    </tr>\n",
       "  </tbody>\n",
       "</table>\n",
       "</div>"
      ],
      "text/plain": [
       "      GM_polarity  Tesla_polarity\n",
       "2005     0.154167        0.000000\n",
       "2006     0.000000        0.095694\n",
       "2007     0.186326        0.093172\n",
       "2008     0.023333        0.076862\n",
       "2009     0.061574        0.101455\n",
       "2010     0.127652        0.086953\n",
       "2011     0.016667        0.075263\n",
       "2012     0.000000        0.108582\n",
       "2013     0.233333        0.065855\n",
       "2014    -0.062500        0.112158\n",
       "2015     0.000000        0.069585"
      ]
     },
     "execution_count": 92,
     "metadata": {},
     "output_type": "execute_result"
    }
   ],
   "source": [
    "combined_df[[\"GM_polarity\",\"Tesla_polarity\"]]"
   ]
  },
  {
   "cell_type": "code",
   "execution_count": 93,
   "metadata": {},
   "outputs": [
    {
     "data": {
      "text/plain": [
       "<matplotlib.axes._subplots.AxesSubplot at 0x10ad63ba8>"
      ]
     },
     "execution_count": 93,
     "metadata": {},
     "output_type": "execute_result"
    },
    {
     "data": {
      "image/png": "[encoded data removed]",
      "text/plain": [
       "<Figure size 432x288 with 1 Axes>"
      ]
     },
     "metadata": {},
     "output_type": "display_data"
    }
   ],
   "source": [
    "combined_df[[\"GM_polarity\",\"Tesla_polarity\"]].plot()"
   ]
  },
  {
   "cell_type": "markdown",
   "metadata": {},
   "source": [
    "### 2005 might be misleading because there is only a single article for GM (it is positive); trying again with 2006-2015"
   ]
  },
  {
   "cell_type": "code",
   "execution_count": 94,
   "metadata": {},
   "outputs": [
    {
     "data": {
      "text/html": [
       "<div>\n",
       "<style scoped>\n",
       "    .dataframe tbody tr th:only-of-type {\n",
       "        vertical-align: middle;\n",
       "    }\n",
       "\n",
       "    .dataframe tbody tr th {\n",
       "        vertical-align: top;\n",
       "    }\n",
       "\n",
       "    .dataframe thead th {\n",
       "        text-align: right;\n",
       "    }\n",
       "</style>\n",
       "<table border=\"1\" class=\"dataframe\">\n",
       "  <thead>\n",
       "    <tr style=\"text-align: right;\">\n",
       "      <th></th>\n",
       "      <th>GM_polarity</th>\n",
       "      <th>Tesla_polarity</th>\n",
       "    </tr>\n",
       "  </thead>\n",
       "  <tbody>\n",
       "    <tr>\n",
       "      <th>2006</th>\n",
       "      <td>0.000000</td>\n",
       "      <td>0.095694</td>\n",
       "    </tr>\n",
       "    <tr>\n",
       "      <th>2007</th>\n",
       "      <td>0.186326</td>\n",
       "      <td>0.093172</td>\n",
       "    </tr>\n",
       "    <tr>\n",
       "      <th>2008</th>\n",
       "      <td>0.023333</td>\n",
       "      <td>0.076862</td>\n",
       "    </tr>\n",
       "    <tr>\n",
       "      <th>2009</th>\n",
       "      <td>0.061574</td>\n",
       "      <td>0.101455</td>\n",
       "    </tr>\n",
       "    <tr>\n",
       "      <th>2010</th>\n",
       "      <td>0.127652</td>\n",
       "      <td>0.086953</td>\n",
       "    </tr>\n",
       "    <tr>\n",
       "      <th>2011</th>\n",
       "      <td>0.016667</td>\n",
       "      <td>0.075263</td>\n",
       "    </tr>\n",
       "    <tr>\n",
       "      <th>2012</th>\n",
       "      <td>0.000000</td>\n",
       "      <td>0.108582</td>\n",
       "    </tr>\n",
       "    <tr>\n",
       "      <th>2013</th>\n",
       "      <td>0.233333</td>\n",
       "      <td>0.065855</td>\n",
       "    </tr>\n",
       "    <tr>\n",
       "      <th>2014</th>\n",
       "      <td>-0.062500</td>\n",
       "      <td>0.112158</td>\n",
       "    </tr>\n",
       "    <tr>\n",
       "      <th>2015</th>\n",
       "      <td>0.000000</td>\n",
       "      <td>0.069585</td>\n",
       "    </tr>\n",
       "  </tbody>\n",
       "</table>\n",
       "</div>"
      ],
      "text/plain": [
       "      GM_polarity  Tesla_polarity\n",
       "2006     0.000000        0.095694\n",
       "2007     0.186326        0.093172\n",
       "2008     0.023333        0.076862\n",
       "2009     0.061574        0.101455\n",
       "2010     0.127652        0.086953\n",
       "2011     0.016667        0.075263\n",
       "2012     0.000000        0.108582\n",
       "2013     0.233333        0.065855\n",
       "2014    -0.062500        0.112158\n",
       "2015     0.000000        0.069585"
      ]
     },
     "execution_count": 94,
     "metadata": {},
     "output_type": "execute_result"
    }
   ],
   "source": [
    "combined_df[[\"GM_polarity\",\"Tesla_polarity\"]].iloc[1:]"
   ]
  },
  {
   "cell_type": "code",
   "execution_count": 95,
   "metadata": {},
   "outputs": [
    {
     "data": {
      "text/plain": [
       "<matplotlib.axes._subplots.AxesSubplot at 0x10ad06358>"
      ]
     },
     "execution_count": 95,
     "metadata": {},
     "output_type": "execute_result"
    },
    {
     "data": {
      "image/png": "[encoded data removed]",
      "text/plain": [
       "<Figure size 432x288 with 1 Axes>"
      ]
     },
     "metadata": {},
     "output_type": "display_data"
    }
   ],
   "source": [
    "combined_df[[\"GM_polarity\",\"Tesla_polarity\"]].iloc[1:].plot()"
   ]
  },
  {
   "cell_type": "markdown",
   "metadata": {},
   "source": [
    "#### 2010 seems like an important year, let's look closely at content before and after it"
   ]
  },
  {
   "cell_type": "code",
   "execution_count": 96,
   "metadata": {},
   "outputs": [
    {
     "name": "stdout",
     "output_type": "stream",
     "text": [
      "Index(['_id', 'abstract', 'blog', 'byline', 'document_type', 'headline',\n",
      "       'keywords', 'multimedia', 'new_desk', 'print_page', 'pub_date', 'score',\n",
      "       'section_name', 'snippet', 'source', 'type_of_material', 'uri',\n",
      "       'web_url', 'word_count', 'year', 'polarity'],\n",
      "      dtype='object')\n"
     ]
    }
   ],
   "source": [
    "# going back to our original dataframes, organize them by their publication date (variable is called 'pub_date')\n",
    "print (df_tesla.columns)"
   ]
  },
  {
   "cell_type": "code",
   "execution_count": 97,
   "metadata": {},
   "outputs": [],
   "source": [
    "# convert the pub_date string to pandas date object\n",
    "df_tesla['pub_date'] = pandas.to_datetime(df_tesla['pub_date'])"
   ]
  },
  {
   "cell_type": "code",
   "execution_count": 98,
   "metadata": {},
   "outputs": [
    {
     "data": {
      "text/plain": [
       "Timestamp('2015-12-20 00:00:00')"
      ]
     },
     "execution_count": 98,
     "metadata": {},
     "output_type": "execute_result"
    }
   ],
   "source": [
    "# verify that this worked by looking at the first row\n",
    "df_tesla['pub_date'].iloc[0]"
   ]
  },
  {
   "cell_type": "code",
   "execution_count": 99,
   "metadata": {},
   "outputs": [],
   "source": [
    "# now do the same for df_gm\n",
    "df_gm['pub_date'] = pandas.to_datetime(df_gm['pub_date'])"
   ]
  },
  {
   "cell_type": "markdown",
   "metadata": {},
   "source": [
    "##### now, let's pull article titles from Tesla articles in 2009"
   ]
  },
  {
   "cell_type": "code",
   "execution_count": 100,
   "metadata": {},
   "outputs": [],
   "source": [
    "df_tesla_2009 = df_tesla[(df_tesla['pub_date']>'2009-01-01') & (df_tesla['pub_date']<'2009-12-31') ]"
   ]
  },
  {
   "cell_type": "code",
   "execution_count": 101,
   "metadata": {},
   "outputs": [
    {
     "name": "stdout",
     "output_type": "stream",
     "text": [
      "78\n"
     ]
    }
   ],
   "source": [
    "print (len(df_tesla_2009))"
   ]
  },
  {
   "cell_type": "code",
   "execution_count": 102,
   "metadata": {},
   "outputs": [],
   "source": [
    "df_tesla_2009_articleSnippets = df_tesla_2009['snippet']"
   ]
  },
  {
   "cell_type": "code",
   "execution_count": 103,
   "metadata": {},
   "outputs": [
    {
     "name": "stdout",
     "output_type": "stream",
     "text": [
      "570    After bankruptcies, bailouts and plunging sale...\n",
      "571    Nothing seemed to herald the end of the intern...\n",
      "572    A potential candidate for governor in Californ...\n",
      "573    At the 2009 Los Angeles auto show, that fuzzy ...\n",
      "574    Tesla Motors is close to a deal to build an el...\n",
      "575    A reporter test-drove a Chevrolet Volt to see ...\n",
      "576    California entrepreneurs find new uses for old...\n",
      "577    As the whole automotive world seems to be raci...\n",
      "578    Reva, which has been making stubby electric ca...\n",
      "579    From the point of manufacture to the windshiel...\n",
      "Name: snippet, dtype: object\n"
     ]
    }
   ],
   "source": [
    "print (df_tesla_2009_articleSnippets[:10])"
   ]
  },
  {
   "cell_type": "code",
   "execution_count": 106,
   "metadata": {},
   "outputs": [],
   "source": [
    "# collapse all df_tesla_2009_articleSnippets into a single string\n",
    "tesla_2009_articleSnippets_as_string= ' '.join(df_tesla_2009_articleSnippets)"
   ]
  },
  {
   "cell_type": "code",
   "execution_count": 107,
   "metadata": {},
   "outputs": [],
   "source": [
    "# now, collapse into a TextBlob object, which we can analyze\n",
    "tesla_2009_articleSnippets = TextBlob(tesla_2009_articleSnippets_as_string)"
   ]
  },
  {
   "cell_type": "code",
   "execution_count": 109,
   "metadata": {},
   "outputs": [
    {
     "data": {
      "text/plain": [
       "WordList(['After', 'bankruptcies', 'bailouts', 'and', 'plunging', 'sales', 'perhaps', 'nothing', 'sums', 'up'])"
      ]
     },
     "execution_count": 109,
     "metadata": {},
     "output_type": "execute_result"
    }
   ],
   "source": [
    "# we can access a list of all the words\n",
    "tesla_2009_articleSnippets.words[:10]"
   ]
  },
  {
   "cell_type": "code",
   "execution_count": 111,
   "metadata": {},
   "outputs": [
    {
     "data": {
      "text/plain": [
       "[Sentence(\"After bankruptcies, bailouts and plunging sales, perhaps nothing sums up the misery better than this: The United States is no longer the world’s top car market.\"),\n",
       " Sentence(\"Nothing seemed to herald the end of the internal combustion engine more than the ability of hybrid cars to leap suddenly to life without the slightest sound.\"),\n",
       " Sentence(\"Unfortunately, it turns out that the sweet silence of 21st-century technology has a serio... A potential candidate for governor in California, Steve Westly, is sitting back and watching for now.\"),\n",
       " Sentence(\"At the 2009 Los Angeles auto show, that fuzzy picture of a future we thought would never arrive is at last coming into focus.\"),\n",
       " Sentence(\"Tesla Motors is close to a deal to build an electric car factory at the site of a former N.A.S.A.\"),\n",
       " Sentence(\"manufacturing plant in Downey, Calif., a blue-collar city south of Los Angeles.\"),\n",
       " Sentence(\"A reporter test-drove a Chevrolet Volt to see how it performed after its electric power supply was depleted.\"),\n",
       " Sentence(\"California entrepreneurs find new uses for old surfboards and wetsuits.\"),\n",
       " Sentence(\"As the whole automotive world seems to be racing suddenly toward the age of electricity, a tiny Indian company, the Reva Electric Car Company, is in the lead, ahead of better-known local competitors.\"),\n",
       " Sentence(\"Reva, which has been making stubby electric cars for eight years, may be the dark horse of the industry.\")]"
      ]
     },
     "execution_count": 111,
     "metadata": {},
     "output_type": "execute_result"
    }
   ],
   "source": [
    "# we can access the sentences\n",
    "tesla_2009_articleSnippets.sentences[:10]"
   ]
  },
  {
   "cell_type": "code",
   "execution_count": 117,
   "metadata": {},
   "outputs": [],
   "source": [
    "# this is a dictionary with 'word': freq\n",
    "tesla_2009_articleSnippets_word_counts = tesla_2009_articleSnippets.word_counts\n",
    "# convert to a dataframe\n",
    "df_tesla_2009_articleSnippets_word_counts = pandas.DataFrame.from_dict(tesla_2009_articleSnippets_word_counts,orient='index')"
   ]
  },
  {
   "cell_type": "code",
   "execution_count": 119,
   "metadata": {},
   "outputs": [
    {
     "data": {
      "text/html": [
       "<div>\n",
       "<style scoped>\n",
       "    .dataframe tbody tr th:only-of-type {\n",
       "        vertical-align: middle;\n",
       "    }\n",
       "\n",
       "    .dataframe tbody tr th {\n",
       "        vertical-align: top;\n",
       "    }\n",
       "\n",
       "    .dataframe thead th {\n",
       "        text-align: right;\n",
       "    }\n",
       "</style>\n",
       "<table border=\"1\" class=\"dataframe\">\n",
       "  <thead>\n",
       "    <tr style=\"text-align: right;\">\n",
       "      <th></th>\n",
       "      <th>0</th>\n",
       "    </tr>\n",
       "  </thead>\n",
       "  <tbody>\n",
       "    <tr>\n",
       "      <th>entrepreneur</th>\n",
       "      <td>2</td>\n",
       "    </tr>\n",
       "    <tr>\n",
       "      <th>developed</th>\n",
       "      <td>1</td>\n",
       "    </tr>\n",
       "    <tr>\n",
       "      <th>packs</th>\n",
       "      <td>1</td>\n",
       "    </tr>\n",
       "    <tr>\n",
       "      <th>speedway</th>\n",
       "      <td>1</td>\n",
       "    </tr>\n",
       "    <tr>\n",
       "      <th>bought</th>\n",
       "      <td>1</td>\n",
       "    </tr>\n",
       "  </tbody>\n",
       "</table>\n",
       "</div>"
      ],
      "text/plain": [
       "              0\n",
       "entrepreneur  2\n",
       "developed     1\n",
       "packs         1\n",
       "speedway      1\n",
       "bought        1"
      ]
     },
     "execution_count": 119,
     "metadata": {},
     "output_type": "execute_result"
    }
   ],
   "source": [
    "df_tesla_2009_articleSnippets_word_counts.head()"
   ]
  },
  {
   "cell_type": "code",
   "execution_count": 125,
   "metadata": {},
   "outputs": [],
   "source": [
    "# sort by values\n",
    "df_tesla_2009_articleSnippets_word_counts = df_tesla_2009_articleSnippets_word_counts.sort_values(by=[0], ascending=False)"
   ]
  },
  {
   "cell_type": "code",
   "execution_count": 126,
   "metadata": {},
   "outputs": [
    {
     "data": {
      "text/plain": [
       "<matplotlib.axes._subplots.AxesSubplot at 0x1a1792a7f0>"
      ]
     },
     "execution_count": 126,
     "metadata": {},
     "output_type": "execute_result"
    },
    {
     "data": {
      "image/png": "[encoded data removed]",
      "text/plain": [
       "<Figure size 432x288 with 1 Axes>"
      ]
     },
     "metadata": {},
     "output_type": "display_data"
    }
   ],
   "source": [
    "df_tesla_2009_articleSnippets_word_counts.plot()"
   ]
  },
  {
   "cell_type": "code",
   "execution_count": 129,
   "metadata": {},
   "outputs": [
    {
     "data": {
      "text/html": [
       "<div>\n",
       "<style scoped>\n",
       "    .dataframe tbody tr th:only-of-type {\n",
       "        vertical-align: middle;\n",
       "    }\n",
       "\n",
       "    .dataframe tbody tr th {\n",
       "        vertical-align: top;\n",
       "    }\n",
       "\n",
       "    .dataframe thead th {\n",
       "        text-align: right;\n",
       "    }\n",
       "</style>\n",
       "<table border=\"1\" class=\"dataframe\">\n",
       "  <thead>\n",
       "    <tr style=\"text-align: right;\">\n",
       "      <th></th>\n",
       "      <th>0</th>\n",
       "    </tr>\n",
       "  </thead>\n",
       "  <tbody>\n",
       "    <tr>\n",
       "      <th>the</th>\n",
       "      <td>122</td>\n",
       "    </tr>\n",
       "    <tr>\n",
       "      <th>a</th>\n",
       "      <td>63</td>\n",
       "    </tr>\n",
       "    <tr>\n",
       "      <th>of</th>\n",
       "      <td>61</td>\n",
       "    </tr>\n",
       "    <tr>\n",
       "      <th>to</th>\n",
       "      <td>43</td>\n",
       "    </tr>\n",
       "    <tr>\n",
       "      <th>electric</th>\n",
       "      <td>38</td>\n",
       "    </tr>\n",
       "  </tbody>\n",
       "</table>\n",
       "</div>"
      ],
      "text/plain": [
       "            0\n",
       "the       122\n",
       "a          63\n",
       "of         61\n",
       "to         43\n",
       "electric   38"
      ]
     },
     "execution_count": 129,
     "metadata": {},
     "output_type": "execute_result"
    }
   ],
   "source": [
    "df_tesla_2009_articleSnippets_word_counts.head()"
   ]
  },
  {
   "cell_type": "code",
   "execution_count": 150,
   "metadata": {},
   "outputs": [],
   "source": [
    "# pronouns, articles, etc (from nltk stopwords.words('english'))\n",
    "stopwords = ['i', 'me', 'my', 'myself', 'we', 'our', 'ours', 'ourselves', 'you', \"you're\", \"you've\", \"you'll\", \"you'd\", 'your', 'yours', 'yourself', 'yourselves', 'he', 'him', 'his', 'himself', 'she', \"she's\", 'her', 'hers', 'herself', 'it', \"it's\", 'its', 'itself', 'they', 'them', 'their', 'theirs', 'themselves', 'what', 'which', 'who', 'whom', 'this', 'that', \"that'll\", 'these', 'those', 'am', 'is', 'are', 'was', 'were', 'be', 'been', 'being', 'have', 'has', 'had', 'having', 'do', 'does', 'did', 'doing', 'a', 'an', 'the', 'and', 'but', 'if', 'or', 'because', 'as', 'until', 'while', 'of', 'at', 'by', 'for', 'with', 'about', 'against', 'between', 'into', 'through', 'during', 'before', 'after', 'above', 'below', 'to', 'from', 'up', 'down', 'in', 'out', 'on', 'off', 'over', 'under', 'again', 'further', 'then', 'once', 'here', 'there', 'when', 'where', 'why', 'how', 'all', 'any', 'both', 'each', 'few', 'more', 'most', 'other', 'some', 'such', 'no', 'nor', 'not', 'only', 'own', 'same', 'so', 'than', 'too', 'very', 's', 't', 'can', 'will', 'just', 'don', \"don't\", 'should', \"should've\", 'now', 'd', 'll', 'm', 'o', 're', 've', 'y', 'ain', 'aren', \"aren't\", 'couldn', \"couldn't\", 'didn', \"didn't\", 'doesn', \"doesn't\", 'hadn', \"hadn't\", 'hasn', \"hasn't\", 'haven', \"haven't\", 'isn', \"isn't\", 'ma', 'mightn', \"mightn't\", 'mustn', \"mustn't\", 'needn', \"needn't\", 'shan', \"shan't\", 'shouldn', \"shouldn't\", 'wasn', \"wasn't\", 'weren', \"weren't\", 'won', \"won't\", 'wouldn', \"wouldn't\"]"
   ]
  },
  {
   "cell_type": "code",
   "execution_count": 151,
   "metadata": {},
   "outputs": [
    {
     "data": {
      "text/html": [
       "<div>\n",
       "<style scoped>\n",
       "    .dataframe tbody tr th:only-of-type {\n",
       "        vertical-align: middle;\n",
       "    }\n",
       "\n",
       "    .dataframe tbody tr th {\n",
       "        vertical-align: top;\n",
       "    }\n",
       "\n",
       "    .dataframe thead th {\n",
       "        text-align: right;\n",
       "    }\n",
       "</style>\n",
       "<table border=\"1\" class=\"dataframe\">\n",
       "  <thead>\n",
       "    <tr style=\"text-align: right;\">\n",
       "      <th></th>\n",
       "      <th>0</th>\n",
       "    </tr>\n",
       "  </thead>\n",
       "  <tbody>\n",
       "    <tr>\n",
       "      <th>electric</th>\n",
       "      <td>38</td>\n",
       "    </tr>\n",
       "    <tr>\n",
       "      <th>car</th>\n",
       "      <td>27</td>\n",
       "    </tr>\n",
       "    <tr>\n",
       "      <th>tesla</th>\n",
       "      <td>25</td>\n",
       "    </tr>\n",
       "    <tr>\n",
       "      <th>motors</th>\n",
       "      <td>17</td>\n",
       "    </tr>\n",
       "    <tr>\n",
       "      <th>new</th>\n",
       "      <td>14</td>\n",
       "    </tr>\n",
       "    <tr>\n",
       "      <th>cars</th>\n",
       "      <td>12</td>\n",
       "    </tr>\n",
       "    <tr>\n",
       "      <th>company</th>\n",
       "      <td>11</td>\n",
       "    </tr>\n",
       "    <tr>\n",
       "      <th>said</th>\n",
       "      <td>10</td>\n",
       "    </tr>\n",
       "    <tr>\n",
       "      <th>billion</th>\n",
       "      <td>10</td>\n",
       "    </tr>\n",
       "    <tr>\n",
       "      <th>one</th>\n",
       "      <td>9</td>\n",
       "    </tr>\n",
       "    <tr>\n",
       "      <th>first</th>\n",
       "      <td>9</td>\n",
       "    </tr>\n",
       "    <tr>\n",
       "      <th>vehicles</th>\n",
       "      <td>9</td>\n",
       "    </tr>\n",
       "    <tr>\n",
       "      <th>get</th>\n",
       "      <td>8</td>\n",
       "    </tr>\n",
       "    <tr>\n",
       "      <th>companies</th>\n",
       "      <td>8</td>\n",
       "    </tr>\n",
       "    <tr>\n",
       "      <th>chief</th>\n",
       "      <td>8</td>\n",
       "    </tr>\n",
       "    <tr>\n",
       "      <th>battery</th>\n",
       "      <td>7</td>\n",
       "    </tr>\n",
       "    <tr>\n",
       "      <th>musk</th>\n",
       "      <td>7</td>\n",
       "    </tr>\n",
       "    <tr>\n",
       "      <th>show</th>\n",
       "      <td>7</td>\n",
       "    </tr>\n",
       "    <tr>\n",
       "      <th>miles</th>\n",
       "      <td>6</td>\n",
       "    </tr>\n",
       "    <tr>\n",
       "      <th>start-up</th>\n",
       "      <td>6</td>\n",
       "    </tr>\n",
       "    <tr>\n",
       "      <th>sedan</th>\n",
       "      <td>6</td>\n",
       "    </tr>\n",
       "    <tr>\n",
       "      <th>elon</th>\n",
       "      <td>6</td>\n",
       "    </tr>\n",
       "    <tr>\n",
       "      <th>program</th>\n",
       "      <td>6</td>\n",
       "    </tr>\n",
       "    <tr>\n",
       "      <th>executive</th>\n",
       "      <td>6</td>\n",
       "    </tr>\n",
       "    <tr>\n",
       "      <th>’</th>\n",
       "      <td>6</td>\n",
       "    </tr>\n",
       "    <tr>\n",
       "      <th>energy</th>\n",
       "      <td>6</td>\n",
       "    </tr>\n",
       "    <tr>\n",
       "      <th>million</th>\n",
       "      <td>6</td>\n",
       "    </tr>\n",
       "    <tr>\n",
       "      <th>entrepreneurs</th>\n",
       "      <td>5</td>\n",
       "    </tr>\n",
       "    <tr>\n",
       "      <th>road</th>\n",
       "      <td>5</td>\n",
       "    </tr>\n",
       "    <tr>\n",
       "      <th>would</th>\n",
       "      <td>5</td>\n",
       "    </tr>\n",
       "    <tr>\n",
       "      <th>...</th>\n",
       "      <td>...</td>\n",
       "    </tr>\n",
       "    <tr>\n",
       "      <th>measure</th>\n",
       "      <td>1</td>\n",
       "    </tr>\n",
       "    <tr>\n",
       "      <th>qualify</th>\n",
       "      <td>1</td>\n",
       "    </tr>\n",
       "    <tr>\n",
       "      <th>fuel</th>\n",
       "      <td>1</td>\n",
       "    </tr>\n",
       "    <tr>\n",
       "      <th>ability</th>\n",
       "      <td>1</td>\n",
       "    </tr>\n",
       "    <tr>\n",
       "      <th>launched</th>\n",
       "      <td>1</td>\n",
       "    </tr>\n",
       "    <tr>\n",
       "      <th>run</th>\n",
       "      <td>1</td>\n",
       "    </tr>\n",
       "    <tr>\n",
       "      <th>piece</th>\n",
       "      <td>1</td>\n",
       "    </tr>\n",
       "    <tr>\n",
       "      <th>agency</th>\n",
       "      <td>1</td>\n",
       "    </tr>\n",
       "    <tr>\n",
       "      <th>japan</th>\n",
       "      <td>1</td>\n",
       "    </tr>\n",
       "    <tr>\n",
       "      <th>round</th>\n",
       "      <td>1</td>\n",
       "    </tr>\n",
       "    <tr>\n",
       "      <th>sitting</th>\n",
       "      <td>1</td>\n",
       "    </tr>\n",
       "    <tr>\n",
       "      <th>2010</th>\n",
       "      <td>1</td>\n",
       "    </tr>\n",
       "    <tr>\n",
       "      <th>june</th>\n",
       "      <td>1</td>\n",
       "    </tr>\n",
       "    <tr>\n",
       "      <th>federal</th>\n",
       "      <td>1</td>\n",
       "    </tr>\n",
       "    <tr>\n",
       "      <th>partner</th>\n",
       "      <td>1</td>\n",
       "    </tr>\n",
       "    <tr>\n",
       "      <th>calif</th>\n",
       "      <td>1</td>\n",
       "    </tr>\n",
       "    <tr>\n",
       "      <th>angling</th>\n",
       "      <td>1</td>\n",
       "    </tr>\n",
       "    <tr>\n",
       "      <th>candidate</th>\n",
       "      <td>1</td>\n",
       "    </tr>\n",
       "    <tr>\n",
       "      <th>another</th>\n",
       "      <td>1</td>\n",
       "    </tr>\n",
       "    <tr>\n",
       "      <th>never</th>\n",
       "      <td>1</td>\n",
       "    </tr>\n",
       "    <tr>\n",
       "      <th>era</th>\n",
       "      <td>1</td>\n",
       "    </tr>\n",
       "    <tr>\n",
       "      <th>hit</th>\n",
       "      <td>1</td>\n",
       "    </tr>\n",
       "    <tr>\n",
       "      <th>animated</th>\n",
       "      <td>1</td>\n",
       "    </tr>\n",
       "    <tr>\n",
       "      <th>behind</th>\n",
       "      <td>1</td>\n",
       "    </tr>\n",
       "    <tr>\n",
       "      <th>dependence</th>\n",
       "      <td>1</td>\n",
       "    </tr>\n",
       "    <tr>\n",
       "      <th>meet</th>\n",
       "      <td>1</td>\n",
       "    </tr>\n",
       "    <tr>\n",
       "      <th>coming</th>\n",
       "      <td>1</td>\n",
       "    </tr>\n",
       "    <tr>\n",
       "      <th>owned</th>\n",
       "      <td>1</td>\n",
       "    </tr>\n",
       "    <tr>\n",
       "      <th>intriguing</th>\n",
       "      <td>1</td>\n",
       "    </tr>\n",
       "    <tr>\n",
       "      <th>escape</th>\n",
       "      <td>1</td>\n",
       "    </tr>\n",
       "  </tbody>\n",
       "</table>\n",
       "<p>709 rows × 1 columns</p>\n",
       "</div>"
      ],
      "text/plain": [
       "                0\n",
       "electric       38\n",
       "car            27\n",
       "tesla          25\n",
       "motors         17\n",
       "new            14\n",
       "cars           12\n",
       "company        11\n",
       "said           10\n",
       "billion        10\n",
       "one             9\n",
       "first           9\n",
       "vehicles        9\n",
       "get             8\n",
       "companies       8\n",
       "chief           8\n",
       "battery         7\n",
       "musk            7\n",
       "show            7\n",
       "miles           6\n",
       "start-up        6\n",
       "sedan           6\n",
       "elon            6\n",
       "program         6\n",
       "executive       6\n",
       "’               6\n",
       "energy          6\n",
       "million         6\n",
       "entrepreneurs   5\n",
       "road            5\n",
       "would           5\n",
       "...            ..\n",
       "measure         1\n",
       "qualify         1\n",
       "fuel            1\n",
       "ability         1\n",
       "launched        1\n",
       "run             1\n",
       "piece           1\n",
       "agency          1\n",
       "japan           1\n",
       "round           1\n",
       "sitting         1\n",
       "2010            1\n",
       "june            1\n",
       "federal         1\n",
       "partner         1\n",
       "calif           1\n",
       "angling         1\n",
       "candidate       1\n",
       "another         1\n",
       "never           1\n",
       "era             1\n",
       "hit             1\n",
       "animated        1\n",
       "behind          1\n",
       "dependence      1\n",
       "meet            1\n",
       "coming          1\n",
       "owned           1\n",
       "intriguing      1\n",
       "escape          1\n",
       "\n",
       "[709 rows x 1 columns]"
      ]
     },
     "execution_count": 151,
     "metadata": {},
     "output_type": "execute_result"
    }
   ],
   "source": [
    "# remove common stopwords\n",
    "stopwords_in_df = [word for word in stopwords if word in df_tesla_2009_articleSnippets_word_counts.index]\n",
    "df_tesla_2009_articleSnippets_word_counts.drop(stopwords_in_df)"
   ]
  }
 ],
 "metadata": {
  "kernelspec": {
   "display_name": "Python 3",
   "language": "python",
   "name": "python3"
  },
  "language_info": {
   "codemirror_mode": {
    "name": "ipython",
    "version": 3
   },
   "file_extension": ".py",
   "mimetype": "text/x-python",
   "name": "python",
   "nbconvert_exporter": "python",
   "pygments_lexer": "ipython3",
   "version": "3.5.5"
  }
 },
 "nbformat": 4,
 "nbformat_minor": 2
}
